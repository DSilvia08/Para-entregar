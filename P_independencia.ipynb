{
  "nbformat": 4,
  "nbformat_minor": 0,
  "metadata": {
    "colab": {
      "provenance": [],
      "authorship_tag": "ABX9TyOCfFqs6I7NagNSW4X4+mdv"
    },
    "kernelspec": {
      "name": "python3",
      "display_name": "Python 3"
    },
    "language_info": {
      "name": "python"
    }
  },
  "cells": [
    {
      "cell_type": "code",
      "source": [
        "import sys\n",
        "print(sys.version)\n",
        "from prettytable import PrettyTable\n",
        "from math import sqrt\n",
        "from scipy.stats import norm"
      ],
      "metadata": {
        "colab": {
          "base_uri": "https://localhost:8080/"
        },
        "id": "LwLNpXzpqjSx",
        "outputId": "ed6a874e-5880-4a7f-ad17-28ecb70c311e"
      },
      "execution_count": 1,
      "outputs": [
        {
          "output_type": "stream",
          "name": "stdout",
          "text": [
            "3.10.12 (main, Nov 20 2023, 15:14:05) [GCC 11.4.0]\n"
          ]
        }
      ]
    },
    {
      "cell_type": "markdown",
      "source": [
        "3.10.12 (main, Nov 20 2023, 15:14:05) [GCC 11.4.0]\n",
        "\n",
        "#Prueba de Corridas\n",
        "Esto es una prueba de independencia \\\n",
        "**Corrida** o **racha** es una sucesión de resultados de la misma clase.\n",
        "El estadístico que usamos se llama _Wald-Wolfowitz_ \\\n",
        "$H_0 =$ los números de la muestra son independientes. \\\n",
        "$H_1 =$ los npumeros de la muestra no son independientes.\n",
        "\\\n",
        "\\\n",
        "Realice una prueba de corridas con un nivel de aceptación del 95 %"
      ],
      "metadata": {
        "id": "pNOjmTwAqjkt"
      }
    },
    {
      "cell_type": "code",
      "source": [
        "L=[0.048, 0.591, 0.478, 0.166, 0.932, 0.926, 0.007, 0.551, 0.362, 0.533, 0.368, 0.437, 0.178, 0.411, 0.545, 0.787, 0.594, 0.086, 0.951, 0.772,\n",
        "   0.298, 0.199, 0.157, 0.401, 0.631]\n",
        "k=len(L) #tamaño de la lista\n",
        "S=[]"
      ],
      "metadata": {
        "id": "oYSwd79Cqj_L"
      },
      "execution_count": 2,
      "outputs": []
    },
    {
      "cell_type": "code",
      "source": [
        "#Paso 1 Determinar una secuencias de unos y ceros\n",
        "a=1\n",
        "b=0\n",
        "while a<k and b<=(k-1):\n",
        "  u=L[a]-L[b]\n",
        "  if u<=0:\n",
        "    S.append(0) #se agrega un 0\n",
        "    a+=1\n",
        "    b+=1\n",
        "  else:\n",
        "    S.append(1) #se agrega 1 en caso contrario\n",
        "    a+=1\n",
        "    b+=1"
      ],
      "metadata": {
        "id": "H21UfU0aqoQo"
      },
      "execution_count": 3,
      "outputs": []
    },
    {
      "cell_type": "code",
      "source": [
        "#Paso 2 Hallar el número de corridas observadas\n",
        "c=0\n",
        "if S[0]==1:\n",
        "  c+=1\n",
        "else:\n",
        "  c+=1\n",
        "for n in S:\n",
        "  if S[n+1] != S[n]:\n",
        "    c+=1\n",
        "  else:\n",
        "    c+=0"
      ],
      "metadata": {
        "id": "c-U5V5QNqocG"
      },
      "execution_count": 4,
      "outputs": []
    },
    {
      "cell_type": "code",
      "source": [
        "c+=1 #se suma 1 más porque el ciclo cuenta n-1 rachas\n",
        "j=[\"----\"] #como el conteo de rachas comienza con el segundo dato,\n",
        "#en la primera fila le agreagré estas lineas\n",
        "S=j+S # en la primera fila le agreagré estas lineas"
      ],
      "metadata": {
        "id": "5jLU826Rqon0"
      },
      "execution_count": 5,
      "outputs": []
    },
    {
      "cell_type": "code",
      "source": [
        "#Tabla\n",
        "myTable = PrettyTable([\"n\",\"X_i\",\"i_rachas\"])#encabezado de la tabla\n",
        "for x in range(k):\n",
        "  myTable.add_row([x,L[x],S[x]])#datos\n",
        "print(myTable)\n",
        "print(\"\")\n",
        "#Hipótesis\n",
        "print(\"H_o = Los números de la muestra son independientes\")\n",
        "print(\"H_a = Los números de la muestra no son independientes\")"
      ],
      "metadata": {
        "colab": {
          "base_uri": "https://localhost:8080/"
        },
        "id": "Aa_QgKCHqoyf",
        "outputId": "6ece3e9e-87bf-4cec-af2e-8cb64597e31b"
      },
      "execution_count": 6,
      "outputs": [
        {
          "output_type": "stream",
          "name": "stdout",
          "text": [
            "+----+-------+----------+\n",
            "| n  |  X_i  | i_rachas |\n",
            "+----+-------+----------+\n",
            "| 0  | 0.048 |   ----   |\n",
            "| 1  | 0.591 |    1     |\n",
            "| 2  | 0.478 |    0     |\n",
            "| 3  | 0.166 |    0     |\n",
            "| 4  | 0.932 |    1     |\n",
            "| 5  | 0.926 |    0     |\n",
            "| 6  | 0.007 |    0     |\n",
            "| 7  | 0.551 |    1     |\n",
            "| 8  | 0.362 |    0     |\n",
            "| 9  | 0.533 |    1     |\n",
            "| 10 | 0.368 |    0     |\n",
            "| 11 | 0.437 |    1     |\n",
            "| 12 | 0.178 |    0     |\n",
            "| 13 | 0.411 |    1     |\n",
            "| 14 | 0.545 |    1     |\n",
            "| 15 | 0.787 |    1     |\n",
            "| 16 | 0.594 |    0     |\n",
            "| 17 | 0.086 |    0     |\n",
            "| 18 | 0.951 |    1     |\n",
            "| 19 | 0.772 |    0     |\n",
            "| 20 | 0.298 |    0     |\n",
            "| 21 | 0.199 |    0     |\n",
            "| 22 | 0.157 |    0     |\n",
            "| 23 | 0.401 |    1     |\n",
            "| 24 | 0.631 |    1     |\n",
            "+----+-------+----------+\n",
            "\n",
            "H_o = Los números de la muestra son independientes\n",
            "H_a = Los números de la muestra no son independientes\n"
          ]
        }
      ]
    },
    {
      "cell_type": "markdown",
      "source": [
        "$$\\mu_{C_0} = \\frac{2n-1}{3}$$ \\\n",
        "$$\\sigma^2_{C_0} = \\frac{16n-29}{90}$$ \\\n",
        "$$z_0 = \\frac{C_0-\\mu_{C_0}}{\\sigma_{C_0}}$$"
      ],
      "metadata": {
        "id": "1-6vRHzUq6s_"
      }
    },
    {
      "cell_type": "code",
      "source": [
        "#Caclulamos la media, varianza y Z\n",
        "media=((2*k)-1)/3\n",
        "varianza=((16*k)-29)/90\n",
        "Z=(c-media)/sqrt(varianza)\n",
        "#como C_0...N(media, distribución estandar) es equivalente a Z_0...N(0,1)"
      ],
      "metadata": {
        "id": "ldbevgYAq9jE"
      },
      "execution_count": 7,
      "outputs": []
    },
    {
      "cell_type": "code",
      "source": [
        "def NvSignificancia(NvAceptacion):\n",
        "  n_sd=(1-NvAceptacion)/2 #nivel de significancia entre 2\n",
        "  N=1-n_sd #probabilidad acumulada\n",
        "  valor_z=norm.ppf(N)#la funcion norm.ppf sirve para calcular el valor Z correspondiente a una probabilidad acumulada\n",
        "  return n_sd,n,valor_z"
      ],
      "metadata": {
        "id": "7luKdGB1q9uh"
      },
      "execution_count": 8,
      "outputs": []
    },
    {
      "cell_type": "code",
      "source": [
        "n_sd,n,valor_z=NvSignificancia(0.95) #manda a llamar la función con nivel de aceptación del 0.95"
      ],
      "metadata": {
        "id": "jHi_rulfq95A"
      },
      "execution_count": 9,
      "outputs": []
    },
    {
      "cell_type": "code",
      "source": [
        "print(\"Rachas observadas: \", c)\n",
        "print(\"media\", round(media,4))\n",
        "print(\"varianza\", round(varianza,4))"
      ],
      "metadata": {
        "colab": {
          "base_uri": "https://localhost:8080/"
        },
        "id": "ShJgw8T_q-D5",
        "outputId": "dbe0b973-9f70-4a4d-ff07-ef8693634dce"
      },
      "execution_count": 10,
      "outputs": [
        {
          "output_type": "stream",
          "name": "stdout",
          "text": [
            "Rachas observadas:  15\n",
            "media 16.3333\n",
            "varianza 4.1222\n"
          ]
        }
      ]
    },
    {
      "cell_type": "code",
      "source": [
        "print(\"Valor z en N(0,1)\", round(valor_z,2))\n",
        "print(\"Valor de Z_o\", round(Z,4))"
      ],
      "metadata": {
        "colab": {
          "base_uri": "https://localhost:8080/"
        },
        "id": "cNk7nG5nq-O8",
        "outputId": "3806db47-45e1-499c-d877-4a6031008ad3"
      },
      "execution_count": 11,
      "outputs": [
        {
          "output_type": "stream",
          "name": "stdout",
          "text": [
            "Valor z en N(0,1) 1.96\n",
            "Valor de Z_o -0.6567\n"
          ]
        }
      ]
    },
    {
      "cell_type": "code",
      "source": [
        "if valor_z*(-1)<Z and Z<valor_z:\n",
        "  print(round(valor_z*(-1),2),\"<\",Z,\"<\",round(valor_z,2))\n",
        "  print(\"H_o se acepta\")\n",
        "else:\n",
        "  print(\"H_o se rechaza\")"
      ],
      "metadata": {
        "colab": {
          "base_uri": "https://localhost:8080/"
        },
        "id": "hC0proH_q-aB",
        "outputId": "c4aa0018-ac57-42a7-987a-2951afc7dfb8"
      },
      "execution_count": 12,
      "outputs": [
        {
          "output_type": "stream",
          "name": "stdout",
          "text": [
            "-1.96 < -0.6567091033031179 < 1.96\n",
            "H_o se acepta\n"
          ]
        }
      ]
    }
  ]
}