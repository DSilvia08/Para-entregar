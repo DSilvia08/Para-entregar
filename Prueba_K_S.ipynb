{
  "nbformat": 4,
  "nbformat_minor": 0,
  "metadata": {
    "colab": {
      "provenance": [],
      "toc_visible": true,
      "authorship_tag": "ABX9TyNubVsG3vbtAs6hSogG5+FI",
      "include_colab_link": true
    },
    "kernelspec": {
      "name": "python3",
      "display_name": "Python 3"
    },
    "language_info": {
      "name": "python"
    }
  },
  "cells": [
    {
      "cell_type": "markdown",
      "metadata": {
        "id": "view-in-github",
        "colab_type": "text"
      },
      "source": [
        "<a href=\"https://colab.research.google.com/github/DSilvia08/Para-entregar/blob/main/Prueba_K_S.ipynb\" target=\"_parent\"><img src=\"https://colab.research.google.com/assets/colab-badge.svg\" alt=\"Open In Colab\"/></a>"
      ]
    },
    {
      "cell_type": "code",
      "execution_count": 1,
      "metadata": {
        "id": "QtbrI0KAI9eL"
      },
      "outputs": [],
      "source": [
        "#Prueba Kolmogorov-Smirnov\n",
        "#Tomando el ejercicio 1. Problema 4 Determine si la siguiente lista de 100 números de 2 dígitos tiene una distribución uniforme con un nivel de aceptación de 90 %.\n",
        "L=[0.78, 0.98, 0.24, 0.73, 0.43, 0.16, 0.78, 0.47, 0.18, 0.55,\n",
        "0.04, 0.29, 0.68, 0.77, 0.16, 0.03, 0.79, 0.22, 0.37, 0.80,\n",
        "0.96, 0.26, 0.91, 0.55, 0.75, 0.55, 0.64, 0.39, 0.53, 0.45,\n",
        "0.61, 0.14, 0.38, 0.12, 0.40, 0.74, 0.78, 0.98, 0.27, 0.60,\n",
        "0.43, 0.67, 0.62, 0.32, 0.53, 0.54, 0.24, 0.29, 0.18, 0.08,\n",
        "0.82, 0.94, 0.19, 0.98, 0.41, 1.00, 0.74, 0.92, 0.14, 0.43,\n",
        "0.83, 0.88, 0.18, 0.21, 0.50, 0.13, 0.43, 0.69, 0.08, 0.12,\n",
        "0.22, 0.50, 0.16, 0.11, 0.18, 0.89, 0.80, 0.42, 0.29, 0.87,\n",
        "0.83, 0.79, 0.65, 0.28, 0.78, 0.49, 0.36, 0.86, 0.87, 0.64,\n",
        "0.51, 0.07, 0.18, 0.94, 0.50, 0.22, 0.66, 0.91, 0.48, 0.24]\n",
        "\n",
        "\n",
        "#1. Ordenar de menor a mayor los números aleatorios\n",
        "L.sort()\n",
        "j=len(L) #tamaño de la lista\n"
      ]
    },
    {
      "cell_type": "code",
      "source": [
        "#2.\n",
        "#Calcular D+.    max 1<i<n |i/n-x_i|\n",
        "DM=[]\n",
        "i=0\n",
        "for n in L:\n",
        "  S=abs(((i/j)-n))\n",
        "  DM.append(round(S,4))\n",
        "  i=i+1\n",
        "\n",
        "#D^-.    max 1<i<n  |x_i- (i-n)/n|\n",
        "k=0\n",
        "Dm=[]\n",
        "for n in L:\n",
        "  S=abs((n-((k-1)/j)))\n",
        "  Dm.append(round(S,4))\n",
        "  k=k+1\n"
      ],
      "metadata": {
        "id": "rYbitdnYE8Ga"
      },
      "execution_count": 2,
      "outputs": []
    },
    {
      "cell_type": "code",
      "source": [
        "#Tabla\n",
        "!pip install prettytable\n",
        "from prettytable import PrettyTable\n",
        "myTable = PrettyTable([\"i\",\"X_i\", \"D+\", \"D-\"])\n",
        "\n",
        "h=1\n",
        "for x in range (j):\n",
        "  myTable.add_row([h,L[x],DM[x],Dm[x]])#datos\n",
        "  h=h+1\n",
        "print(myTable)\n",
        "\n",
        "Y=max(DM)\n",
        "print(\"D+ = \", Y)\n",
        "Z=max(Dm)\n",
        "print(\"D- = \", Z)\n",
        "\n",
        "#D= max {D+,D-}\n",
        "D=max(Y,Z)\n",
        "print(\"D= max {D+,D-} : \", D)\n"
      ],
      "metadata": {
        "colab": {
          "base_uri": "https://localhost:8080/"
        },
        "id": "T1NDteXJFDs1",
        "outputId": "bdac8a40-1d5f-4fbb-f64f-f5f38949bfbe"
      },
      "execution_count": 3,
      "outputs": [
        {
          "output_type": "stream",
          "name": "stdout",
          "text": [
            "Requirement already satisfied: prettytable in /usr/local/lib/python3.10/dist-packages (3.10.0)\n",
            "Requirement already satisfied: wcwidth in /usr/local/lib/python3.10/dist-packages (from prettytable) (0.2.13)\n",
            "+-----+------+------+------+\n",
            "|  i  | X_i  |  D+  |  D-  |\n",
            "+-----+------+------+------+\n",
            "|  1  | 0.03 | 0.03 | 0.04 |\n",
            "|  2  | 0.04 | 0.03 | 0.04 |\n",
            "|  3  | 0.07 | 0.05 | 0.06 |\n",
            "|  4  | 0.08 | 0.05 | 0.06 |\n",
            "|  5  | 0.08 | 0.04 | 0.05 |\n",
            "|  6  | 0.11 | 0.06 | 0.07 |\n",
            "|  7  | 0.12 | 0.06 | 0.07 |\n",
            "|  8  | 0.12 | 0.05 | 0.06 |\n",
            "|  9  | 0.13 | 0.05 | 0.06 |\n",
            "|  10 | 0.14 | 0.05 | 0.06 |\n",
            "|  11 | 0.14 | 0.04 | 0.05 |\n",
            "|  12 | 0.16 | 0.05 | 0.06 |\n",
            "|  13 | 0.16 | 0.04 | 0.05 |\n",
            "|  14 | 0.16 | 0.03 | 0.04 |\n",
            "|  15 | 0.18 | 0.04 | 0.05 |\n",
            "|  16 | 0.18 | 0.03 | 0.04 |\n",
            "|  17 | 0.18 | 0.02 | 0.03 |\n",
            "|  18 | 0.18 | 0.01 | 0.02 |\n",
            "|  19 | 0.18 | 0.0  | 0.01 |\n",
            "|  20 | 0.19 | 0.0  | 0.01 |\n",
            "|  21 | 0.21 | 0.01 | 0.02 |\n",
            "|  22 | 0.22 | 0.01 | 0.02 |\n",
            "|  23 | 0.22 | 0.0  | 0.01 |\n",
            "|  24 | 0.22 | 0.01 | 0.0  |\n",
            "|  25 | 0.24 | 0.0  | 0.01 |\n",
            "|  26 | 0.24 | 0.01 | 0.0  |\n",
            "|  27 | 0.24 | 0.02 | 0.01 |\n",
            "|  28 | 0.26 | 0.01 | 0.0  |\n",
            "|  29 | 0.27 | 0.01 | 0.0  |\n",
            "|  30 | 0.28 | 0.01 | 0.0  |\n",
            "|  31 | 0.29 | 0.01 | 0.0  |\n",
            "|  32 | 0.29 | 0.02 | 0.01 |\n",
            "|  33 | 0.29 | 0.03 | 0.02 |\n",
            "|  34 | 0.32 | 0.01 | 0.0  |\n",
            "|  35 | 0.36 | 0.02 | 0.03 |\n",
            "|  36 | 0.37 | 0.02 | 0.03 |\n",
            "|  37 | 0.38 | 0.02 | 0.03 |\n",
            "|  38 | 0.39 | 0.02 | 0.03 |\n",
            "|  39 | 0.4  | 0.02 | 0.03 |\n",
            "|  40 | 0.41 | 0.02 | 0.03 |\n",
            "|  41 | 0.42 | 0.02 | 0.03 |\n",
            "|  42 | 0.43 | 0.02 | 0.03 |\n",
            "|  43 | 0.43 | 0.01 | 0.02 |\n",
            "|  44 | 0.43 | 0.0  | 0.01 |\n",
            "|  45 | 0.43 | 0.01 | 0.0  |\n",
            "|  46 | 0.45 | 0.0  | 0.01 |\n",
            "|  47 | 0.47 | 0.01 | 0.02 |\n",
            "|  48 | 0.48 | 0.01 | 0.02 |\n",
            "|  49 | 0.49 | 0.01 | 0.02 |\n",
            "|  50 | 0.5  | 0.01 | 0.02 |\n",
            "|  51 | 0.5  | 0.0  | 0.01 |\n",
            "|  52 | 0.5  | 0.01 | 0.0  |\n",
            "|  53 | 0.51 | 0.01 | 0.0  |\n",
            "|  54 | 0.53 | 0.0  | 0.01 |\n",
            "|  55 | 0.53 | 0.01 | 0.0  |\n",
            "|  56 | 0.54 | 0.01 | 0.0  |\n",
            "|  57 | 0.55 | 0.01 | 0.0  |\n",
            "|  58 | 0.55 | 0.02 | 0.01 |\n",
            "|  59 | 0.55 | 0.03 | 0.02 |\n",
            "|  60 | 0.6  | 0.01 | 0.02 |\n",
            "|  61 | 0.61 | 0.01 | 0.02 |\n",
            "|  62 | 0.62 | 0.01 | 0.02 |\n",
            "|  63 | 0.64 | 0.02 | 0.03 |\n",
            "|  64 | 0.64 | 0.01 | 0.02 |\n",
            "|  65 | 0.65 | 0.01 | 0.02 |\n",
            "|  66 | 0.66 | 0.01 | 0.02 |\n",
            "|  67 | 0.67 | 0.01 | 0.02 |\n",
            "|  68 | 0.68 | 0.01 | 0.02 |\n",
            "|  69 | 0.69 | 0.01 | 0.02 |\n",
            "|  70 | 0.73 | 0.04 | 0.05 |\n",
            "|  71 | 0.74 | 0.04 | 0.05 |\n",
            "|  72 | 0.74 | 0.03 | 0.04 |\n",
            "|  73 | 0.75 | 0.03 | 0.04 |\n",
            "|  74 | 0.77 | 0.04 | 0.05 |\n",
            "|  75 | 0.78 | 0.04 | 0.05 |\n",
            "|  76 | 0.78 | 0.03 | 0.04 |\n",
            "|  77 | 0.78 | 0.02 | 0.03 |\n",
            "|  78 | 0.78 | 0.01 | 0.02 |\n",
            "|  79 | 0.79 | 0.01 | 0.02 |\n",
            "|  80 | 0.79 | 0.0  | 0.01 |\n",
            "|  81 | 0.8  | 0.0  | 0.01 |\n",
            "|  82 | 0.8  | 0.01 | 0.0  |\n",
            "|  83 | 0.82 | 0.0  | 0.01 |\n",
            "|  84 | 0.83 | 0.0  | 0.01 |\n",
            "|  85 | 0.83 | 0.01 | 0.0  |\n",
            "|  86 | 0.86 | 0.01 | 0.02 |\n",
            "|  87 | 0.87 | 0.01 | 0.02 |\n",
            "|  88 | 0.87 | 0.0  | 0.01 |\n",
            "|  89 | 0.88 | 0.0  | 0.01 |\n",
            "|  90 | 0.89 | 0.0  | 0.01 |\n",
            "|  91 | 0.91 | 0.01 | 0.02 |\n",
            "|  92 | 0.91 | 0.0  | 0.01 |\n",
            "|  93 | 0.92 | 0.0  | 0.01 |\n",
            "|  94 | 0.94 | 0.01 | 0.02 |\n",
            "|  95 | 0.94 | 0.0  | 0.01 |\n",
            "|  96 | 0.96 | 0.01 | 0.02 |\n",
            "|  97 | 0.98 | 0.02 | 0.03 |\n",
            "|  98 | 0.98 | 0.01 | 0.02 |\n",
            "|  99 | 0.98 | 0.0  | 0.01 |\n",
            "| 100 | 1.0  | 0.01 | 0.02 |\n",
            "+-----+------+------+------+\n",
            "D+ =  0.06\n",
            "D- =  0.07\n",
            "D= max {D+,D-} :  0.07\n"
          ]
        }
      ]
    },
    {
      "cell_type": "code",
      "source": [
        "#3. Comparamos con el valor d_on\n",
        "W=float(input(\"Escriba el nivel de aceptación: \"))\n",
        "#nivel de significancia\n",
        "n_s=round(1-W,2)\n",
        "print(\"Nivel de significancia: \", n_s)\n",
        "#Tabla de Lilliefors\n",
        "from math import sqrt\n",
        "if n_s==0.20:\n",
        "  valor=0.724265/sqrt(j)\n",
        "if n_s==0.15:\n",
        "  valor=0.758905/sqrt(j)\n",
        "if n_s==0.10:\n",
        "  valor=0.8043545/sqrt(j)\n",
        "if n_s==0.05:\n",
        "  valor=0.875897/sqrt(j)\n",
        "if n_s==0.01:\n",
        "  valor=1.0210785/sqrt(j)\n",
        "\n",
        "print(\"\")\n",
        "print(\"H_o = los datos proceden de una distribución normal\")\n",
        "print(\"H_a = los datos no proceden de una distribución normal\")\n",
        "print(\"\")\n",
        "#se acepta si D<d_on\n",
        "if D<valor:\n",
        "  print(D, \" < \", round(valor,4) )\n",
        "  print(\"Se acepta H_o\")\n",
        "else:\n",
        "  print(\"Se rechaza H_o\")\n"
      ],
      "metadata": {
        "colab": {
          "base_uri": "https://localhost:8080/"
        },
        "id": "KZkpdIfZFKq8",
        "outputId": "78d6ae62-71d6-4ea6-c200-ba154e0b40ca"
      },
      "execution_count": 4,
      "outputs": [
        {
          "output_type": "stream",
          "name": "stdout",
          "text": [
            "Escriba el nivel de aceptación: 0.90\n",
            "Nivel de significancia:  0.1\n",
            "\n",
            "H_o = los datos proceden de una distribución normal\n",
            "H_a = los datos no proceden de una distribución normal\n",
            "\n",
            "0.07  <  0.0804\n",
            "Se acepta H_o\n"
          ]
        }
      ]
    }
  ]
}