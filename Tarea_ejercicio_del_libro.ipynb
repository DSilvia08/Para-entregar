{
  "nbformat": 4,
  "nbformat_minor": 0,
  "metadata": {
    "colab": {
      "provenance": [],
      "authorship_tag": "ABX9TyMOMnMzUwXDT1TOoqwrLosB",
      "include_colab_link": true
    },
    "kernelspec": {
      "name": "python3",
      "display_name": "Python 3"
    },
    "language_info": {
      "name": "python"
    }
  },
  "cells": [
    {
      "cell_type": "markdown",
      "metadata": {
        "id": "view-in-github",
        "colab_type": "text"
      },
      "source": [
        "<a href=\"https://colab.research.google.com/github/DSilvia08/Para-entregar/blob/main/Tarea_ejercicio_del_libro.ipynb\" target=\"_parent\"><img src=\"https://colab.research.google.com/assets/colab-badge.svg\" alt=\"Open In Colab\"/></a>"
      ]
    },
    {
      "cell_type": "code",
      "execution_count": null,
      "metadata": {
        "colab": {
          "base_uri": "https://localhost:8080/"
        },
        "id": "NBsZBC0Ai5eK",
        "outputId": "6a2273ed-754b-422e-999c-c054442b55b0"
      },
      "outputs": [
        {
          "output_type": "stream",
          "name": "stdout",
          "text": [
            "3.10.12 (main, Nov 20 2023, 15:14:05) [GCC 11.4.0]\n"
          ]
        }
      ],
      "source": [
        "import sys\n",
        "print(sys.version)"
      ]
    },
    {
      "cell_type": "markdown",
      "source": [
        "3.10.12 (main, Nov 20 2023, 15:14:05) [GCC 11.4.0]\n",
        "#Ejercicio 5.5\n",
        "La demanda diaria de un cierto artículo está regida por una distribución binomial con parámetros $n=6$ y $\\theta =\\frac 12$. El tiempo de entrega en días es una variable aleatoria de Poisson con $\\lambda =3$. El costo de mantener una unidad en inventario es de {$1} por día. el costo faltante es de {$10} por unidad, y el costo de ordenar es de {$50} por orden. Se desea comparar dos políticas para llevar el inventario:\n",
        "1. Ordenar cada 8 días hasta tener 30 artículos en inventario\n",
        "2. Ordener hasta 30 artículos cuando el nivel de inventario sea menor o igual a 10.\n",
        "\n",
        "Si se asume que las unidades faltantes en un ciclo con surtidas por la nueva orden de arriba en el próximo ciclo, **¿Cuál de las dos políticas descritas es más económica?**"
      ],
      "metadata": {
        "id": "5RupqBiHjUQ4"
      }
    },
    {
      "cell_type": "markdown",
      "source": [
        "La demanda diaria $X\\sim B(n=6,\\theta=\\frac 12)$. Por lo cual haré uso de la función **random.binomial()**\n",
        "$$random. binomial ( n , p , size = Ninguno )$$\n",
        "de la librería numpy"
      ],
      "metadata": {
        "id": "ewv--ED9yCGe"
      }
    },
    {
      "cell_type": "markdown",
      "source": [
        "Tiempo de entrega $Y\\sim P(λ)$. Por lo cual haré uso de la función **random.exponential** \\\n",
        "$$random.exponencial \\ ( escala = λ , size = Ninguno ) $$\n",
        "de la librería numpy"
      ],
      "metadata": {
        "id": "m4ozBeQf0cRN"
      }
    },
    {
      "cell_type": "code",
      "source": [
        "import numpy as np\n",
        "import matplotlib.pyplot as plt\n",
        "from numpy import random"
      ],
      "metadata": {
        "id": "vxS4T9GpopAH"
      },
      "execution_count": 86,
      "outputs": []
    },
    {
      "cell_type": "markdown",
      "source": [
        "##1. Ordenar cada 8 días hasta tener 30 artículos en inventario"
      ],
      "metadata": {
        "id": "g1s8gGFNAKzN"
      }
    },
    {
      "cell_type": "code",
      "source": [
        "def simular_politica(T, S, lamda, rep, costounitario, costoperdida, costo_orden,NvmaxInventario):\n",
        "    t = 0 #tiempo actual\n",
        "    Inventario_inicial = S\n",
        "    tllegada = random.exponential(lamda) #tiempo de llegada\n",
        "    dia_proveedor = rep #primer día que llega el proveedor\n",
        "    costo = 0 #iniciar costo en 0\n",
        "    Ordenes = 0 #Conteo de ordenes\n",
        "    s=NvmaxInventario\n",
        "    TIEMPOS = []\n",
        "    INVENTARIO = []\n",
        "\n",
        "    while t < T:\n",
        "        tactual = t #tiempo anterior\n",
        "        invactual = Inventario_inicial #inventario anterior\n",
        "        TIEMPOS.append(tactual)\n",
        "        INVENTARIO.append(Inventario_inicial)\n",
        "        t = min(tllegada, dia_proveedor) # Avanza el tiempo al próximo evento (llegada de demanda o reposición)\n",
        "        TIEMPOS.append(t)\n",
        "        INVENTARIO.append(Inventario_inicial)\n",
        "        costo += (t - tactual) * Inventario_inicial * costounitario # Calcula el costo de mantener inventario\n",
        "\n",
        "        if t == tllegada: # Si el próximo evento es una llegada de demanda\n",
        "            demanda=random.binomial(6,0.5) # Genera la demanda\n",
        "            if Inventario_inicial >= demanda: # Si hay suficiente inventario\n",
        "                Inventario_inicial -= demanda #satisface demanda\n",
        "            else: #caso contario (demanda insatisfecha)\n",
        "                Faltantes = demanda - Inventario_inicial  # Se registra la cantidad no satisfecha\n",
        "                costo += Faltantes * costoperdida\n",
        "                Inventario_inicial = 0 #No hay inventarios negativos\n",
        "\n",
        "            tllegada += random.exponential(lamda) # Se programa la próxima llegada de demanda\n",
        "        else: # Si el próximo evento es una reposición de inventario\n",
        "          if s==0:\n",
        "            Inventario_inicial = S # Se repone el inventario al nivel máximo\n",
        "            dia_proveedor += rep\n",
        "            Ordenes += 1\n",
        "          elif s!=0:\n",
        "            if Inventario_inicial<=s: # Se repone el inventario al nivel máximo si está por debajo de 10\n",
        "              Inventario_inicial=S\n",
        "            dia_proveedor += rep  # Se programa la próxima reposición\n",
        "            Ordenes += 1  # Se incrementa el contador de órdenes\n",
        "\n",
        "    return costo + Ordenes * costo_orden, TIEMPOS, INVENTARIO"
      ],
      "metadata": {
        "id": "q5GZiW4c0X7Z"
      },
      "execution_count": 88,
      "outputs": []
    },
    {
      "cell_type": "code",
      "source": [
        "# Parámetros para ambas políticas\n",
        "Tiempo_total = 100 #Tiempo total de simulación\n",
        "Inventario_maximo = 30 #Nivel de inventario a reponer\n",
        "lamda = 3 #lambda de la exponencial\n",
        "longitud_dias = 8 #Longitud de días entre cada llegada del proveedor\n",
        "costounitario = 1 #Costo unitario para mantener inventario\n",
        "costoperdida = 10 #Costo por venta perdida\n",
        "costo_orden = 50 #Costo por ordenar"
      ],
      "metadata": {
        "id": "QY-0xxn1cJXo"
      },
      "execution_count": 98,
      "outputs": []
    },
    {
      "cell_type": "code",
      "source": [
        "Nivel_maxInventario1 = 0 #Nivel máximo de inventario antes de realizar un pedido"
      ],
      "metadata": {
        "id": "oG1uzmi5n436"
      },
      "execution_count": 57,
      "outputs": []
    },
    {
      "cell_type": "code",
      "source": [
        "costo1, listatiempo1, listainventario1 = simular_politica(Tiempo_total, Inventario_maximo, lamda, longitud_dias, costounitario, costoperdida, costo_orden, Nivel_maxInventario1)"
      ],
      "metadata": {
        "id": "wPwd13_OigP-"
      },
      "execution_count": 99,
      "outputs": []
    },
    {
      "cell_type": "code",
      "source": [
        "print(\"Costo total con política 1:\", costo1)"
      ],
      "metadata": {
        "colab": {
          "base_uri": "https://localhost:8080/"
        },
        "id": "O7X83dltmKEj",
        "outputId": "2ba14485-4327-42b1-ab85-966fabb2c5a2"
      },
      "execution_count": 100,
      "outputs": [
        {
          "output_type": "stream",
          "name": "stdout",
          "text": [
            "Costo total con política 1: 3216.448504580827\n"
          ]
        }
      ]
    },
    {
      "cell_type": "markdown",
      "source": [
        "##2. Ordener hasta 30 artículos cuando el nivel de inventario sea menor o igual a 10"
      ],
      "metadata": {
        "id": "iwym_HKVihwc"
      }
    },
    {
      "cell_type": "code",
      "source": [
        "Nivel_maxInventario2 = 10 #Nivel máximo de inventario antes de realizar un pedido"
      ],
      "metadata": {
        "id": "N9Mg7wOhnw3Q"
      },
      "execution_count": 50,
      "outputs": []
    },
    {
      "cell_type": "code",
      "source": [
        "costo2, listatiempo2, listainventario2 = simular_politica(Tiempo_total, Inventario_maximo, lamda, longitud_dias, costounitario, costoperdida, costo_orden, Nivel_maxInventario2)"
      ],
      "metadata": {
        "id": "nO-xyMGTBF2A"
      },
      "execution_count": 101,
      "outputs": []
    },
    {
      "cell_type": "code",
      "source": [
        "print(\"Costo total con política 2:\", costo2)"
      ],
      "metadata": {
        "colab": {
          "base_uri": "https://localhost:8080/"
        },
        "id": "7QbbWgNgBIRq",
        "outputId": "167188e0-bc38-4334-ef33-a825a9e90335"
      },
      "execution_count": 102,
      "outputs": [
        {
          "output_type": "stream",
          "name": "stdout",
          "text": [
            "Costo total con política 2: 2380.645961347684\n"
          ]
        }
      ]
    },
    {
      "cell_type": "code",
      "source": [
        "# Resultados\n",
        "print(\"Costo total con política 1:\", costo1)\n",
        "print(\"Costo total con política 2:\", costo2)"
      ],
      "metadata": {
        "colab": {
          "base_uri": "https://localhost:8080/"
        },
        "id": "7RguquIOBOlI",
        "outputId": "ccc59374-cdca-4f4d-e3f8-fa5842369c76"
      },
      "execution_count": 103,
      "outputs": [
        {
          "output_type": "stream",
          "name": "stdout",
          "text": [
            "Costo total con política 1: 3216.448504580827\n",
            "Costo total con política 2: 2380.645961347684\n"
          ]
        }
      ]
    },
    {
      "cell_type": "code",
      "source": [
        "if costo1 < costo2:\n",
        "    print(\"La política 1 es más económica.\")\n",
        "else:\n",
        "    print(\"La política 2 es más económica.\")"
      ],
      "metadata": {
        "colab": {
          "base_uri": "https://localhost:8080/"
        },
        "id": "QCH61ejzq-H-",
        "outputId": "c7346903-5d5c-40a7-bdf8-b3ec86a5bd2d"
      },
      "execution_count": 104,
      "outputs": [
        {
          "output_type": "stream",
          "name": "stdout",
          "text": [
            "La política 2 es más económica.\n"
          ]
        }
      ]
    },
    {
      "cell_type": "code",
      "source": [
        "# Gráficas\n",
        "plt.figure(figsize=(12, 6))\n",
        "plt.subplot(2, 1, 1) #e está creando un subgráfico en una disposición de 2 filas por 1 columna y seleccionando el segundo subgráfico (que corresponde a la segunda fila)\n",
        "plt.plot(listatiempo1, listainventario1) #grafica distribución de inventario Política 1\n",
        "plt.xlabel('Tiempo (días)')\n",
        "plt.ylabel('Nivel de inventario')\n",
        "plt.title('Política 1')\n",
        "\n",
        "plt.subplot(2, 1, 2)\n",
        "plt.plot(listatiempo2, listainventario2) #grafica distribución de inventario Política 2\n",
        "plt.xlabel('Tiempo (días)')\n",
        "plt.ylabel('Nivel de inventario')\n",
        "plt.title('Política 2')\n",
        "\n",
        "plt.tight_layout() #para que los gráficos no se encimen\n",
        "plt.show()"
      ],
      "metadata": {
        "colab": {
          "base_uri": "https://localhost:8080/",
          "height": 607
        },
        "id": "PZhZsMbrBXeh",
        "outputId": "272fbba5-5cb6-4ab6-da35-8c2f5869ee10"
      },
      "execution_count": 105,
      "outputs": [
        {
          "output_type": "display_data",
          "data": {
            "text/plain": [
              "<Figure size 1200x600 with 2 Axes>"
            ],
            "image/png": "[encoded data removed]"
          },
          "metadata": {}
        }
      ]
    }
  ]
}