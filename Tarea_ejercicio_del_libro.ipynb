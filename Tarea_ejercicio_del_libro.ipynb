{
  "nbformat": 4,
  "nbformat_minor": 0,
  "metadata": {
    "colab": {
      "provenance": [],
      "authorship_tag": "ABX9TyOjPtVPAsEaMNvWrlz2z07y",
      "include_colab_link": true
    },
    "kernelspec": {
      "name": "python3",
      "display_name": "Python 3"
    },
    "language_info": {
      "name": "python"
    }
  },
  "cells": [
    {
      "cell_type": "markdown",
      "metadata": {
        "id": "view-in-github",
        "colab_type": "text"
      },
      "source": [
        "<a href=\"https://colab.research.google.com/github/DSilvia08/Para-entregar/blob/main/Tarea_ejercicio_del_libro.ipynb\" target=\"_parent\"><img src=\"https://colab.research.google.com/assets/colab-badge.svg\" alt=\"Open In Colab\"/></a>"
      ]
    },
    {
      "cell_type": "code",
      "execution_count": null,
      "metadata": {
        "colab": {
          "base_uri": "https://localhost:8080/"
        },
        "id": "NBsZBC0Ai5eK",
        "outputId": "6a2273ed-754b-422e-999c-c054442b55b0"
      },
      "outputs": [
        {
          "output_type": "stream",
          "name": "stdout",
          "text": [
            "3.10.12 (main, Nov 20 2023, 15:14:05) [GCC 11.4.0]\n"
          ]
        }
      ],
      "source": [
        "import sys\n",
        "print(sys.version)"
      ]
    },
    {
      "cell_type": "markdown",
      "source": [
        "3.10.12 (main, Nov 20 2023, 15:14:05) [GCC 11.4.0]\n",
        "#Ejercicio 5.5\n",
        "La demanda diaria de un cierto artículo está regida por una distribución binomial con parámetros $n=6$ y $\\theta =\\frac 12$. El tiempo de entrega en días es una variable aleatoria de Poisson con $\\lambda =3$. El costo de mantener una unidad en inventario es de {$1} por día. el costo faltante es de {$10} por unidad, y el costo de ordenar es de {$50} por orden. Se desea comparar dos políticas para llevar el inventario:\n",
        "1. Ordenar cada 8 días hasta tener 30 artículos en inventario\n",
        "2. Ordener hasta 30 artículos cuando el nivel de inventario sea menor o igual a 10.\n",
        "\n",
        "Si se asume que las unidades faltantes en un ciclo con surtidas por la nueva orden de arriba en el próximo ciclo, **¿Cuál de las dos políticas descritas es más económica?**"
      ],
      "metadata": {
        "id": "5RupqBiHjUQ4"
      }
    },
    {
      "cell_type": "markdown",
      "source": [
        "La demanda diaria $X\\sim B(n=6,\\theta=\\frac 12)$.\n",
        "\n",
        "La distribución binomial es una distribución discreta de probabilidad descrita por dos parámetros: n el número de experimentos realizados, y p la probabilidad de éxito. \\\n",
        "La variable aleatoria, suma de todas estas variables aleatorias, cuenta el número de éxitos y sigue una distribución binomial. \\\n",
        "Es posible entonces obtener la probabilidad de k éxitos en una repetición de n experimentos.\n",
        "$$P(X=k)=\\binom{n}{k} p^k(1-p)^{n-k}$$"
      ],
      "metadata": {
        "id": "ewv--ED9yCGe"
      }
    },
    {
      "cell_type": "markdown",
      "source": [
        "Los valores de la función de distribución acumulativa para esta distribución binomial son:\n",
        "$$P(X\\leq 0)=\\frac{1}{64}\\approx 0.01562$$\n",
        "$$P(X\\leq 1)=\\frac{7}{64}\\approx 0.10937$$\n",
        "$$P(X\\leq 2)=\\frac{22}{64}\\approx 0.34375$$\n",
        "$$P(X\\leq 3)=\\frac{42}{64}\\approx 0.65625$$\n",
        "$$P(X\\leq 4)=\\frac{57}{64}\\approx 0.89062$$\n",
        "$$P(X\\leq 5)=\\frac{63}{64}\\approx 0.98437$$\n",
        "$$P(X\\leq 6)=1$$"
      ],
      "metadata": {
        "id": "xXB--2h4ElqD"
      }
    },
    {
      "cell_type": "code",
      "source": [
        "import numpy as np\n",
        "import matplotlib.pyplot as plt\n",
        "from numpy import random"
      ],
      "metadata": {
        "id": "leKe2OiIF_Eb"
      },
      "execution_count": 1,
      "outputs": []
    },
    {
      "cell_type": "code",
      "source": [
        "def distribucion_binomial(u): #Función que retorna la demanda diaria\n",
        "                              #valores de 0 a 6\n",
        "  if 0<=u<0.01562:\n",
        "    return 0\n",
        "  elif 0.01562<=u<0.10937:\n",
        "    return 1\n",
        "  elif 0.10937<=u<0.34375:\n",
        "    return 2\n",
        "  elif 0.34375<=u<0.65625:\n",
        "    return 3\n",
        "  elif 0.65625<=u<0.89062:\n",
        "    return 4\n",
        "  elif 0.89062<=u<0.98437:\n",
        "    return 5\n",
        "  else:\n",
        "    return 6"
      ],
      "metadata": {
        "id": "N0Iv1XpoF_OI"
      },
      "execution_count": 34,
      "outputs": []
    },
    {
      "cell_type": "markdown",
      "source": [
        "Tiempo de entrega $Y\\sim P(λ)$. Por lo cual haré uso de la función **random.exponential** \\\n",
        "$$random.exponencial \\ ( escala = λ , size = Ninguno ) $$\n",
        "de la librería numpy"
      ],
      "metadata": {
        "id": "m4ozBeQf0cRN"
      }
    },
    {
      "cell_type": "markdown",
      "source": [
        "##1. Ordenar cada 8 días hasta tener 30 artículos en inventario"
      ],
      "metadata": {
        "id": "g1s8gGFNAKzN"
      }
    },
    {
      "cell_type": "code",
      "source": [
        "def simular_politica(T, S, lamda, rep, costounitario, costoperdida, costo_orden,NvmaxInventario):\n",
        "    t = 0 #tiempo actual\n",
        "    Inventario_inicial = S\n",
        "    tllegada = random.exponential(lamda) #tiempo de llegada\n",
        "    dia_proveedor = rep #primer día que llega el proveedor\n",
        "    costo = 0 #iniciar costo en 0\n",
        "    Ordenes = 0 #Conteo de ordenes\n",
        "    s=NvmaxInventario\n",
        "    TIEMPOS = []\n",
        "    INVENTARIO = []\n",
        "\n",
        "    while t < T:\n",
        "        tactual = t #tiempo anterior\n",
        "        invactual = Inventario_inicial #inventario anterior\n",
        "        TIEMPOS.append(tactual)\n",
        "        INVENTARIO.append(Inventario_inicial)\n",
        "        t = min(tllegada, dia_proveedor) # Avanza el tiempo al próximo evento (llegada de demanda o reposición)\n",
        "        TIEMPOS.append(t)\n",
        "        INVENTARIO.append(Inventario_inicial)\n",
        "        costo += (t - tactual) * Inventario_inicial * costounitario # Calcula el costo de mantener inventario\n",
        "\n",
        "        if t == tllegada: # Si el próximo evento es una llegada de demanda\n",
        "            u=random.uniform(0,1)\n",
        "            demanda=distribucion_binomial(u) #Genera la demanda\n",
        "            if Inventario_inicial >= demanda: # Si hay suficiente inventario\n",
        "                Inventario_inicial -= demanda #satisface demanda\n",
        "            else: #caso contario (demanda insatisfecha)\n",
        "                Faltantes = demanda - Inventario_inicial  # Se registra la cantidad no satisfecha\n",
        "                costo += Faltantes * costoperdida\n",
        "                Inventario_inicial = 0 #No hay inventarios negativos\n",
        "\n",
        "            tllegada += random.exponential(lamda) # Se programa la próxima llegada de demanda\n",
        "        else: # Si el próximo evento es una reposición de inventario\n",
        "          if s==0:\n",
        "            Inventario_inicial = S # Se repone el inventario al nivel máximo\n",
        "            dia_proveedor += rep\n",
        "            Ordenes += 1\n",
        "          elif s!=0:\n",
        "            if Inventario_inicial<=s: # Se repone el inventario al nivel máximo si está por debajo de 10\n",
        "              Inventario_inicial=S\n",
        "            dia_proveedor += rep  # Se programa la próxima reposición\n",
        "            Ordenes += 1  # Se incrementa el contador de órdenes\n",
        "\n",
        "    return costo + Ordenes * costo_orden, TIEMPOS, INVENTARIO"
      ],
      "metadata": {
        "id": "q5GZiW4c0X7Z"
      },
      "execution_count": 35,
      "outputs": []
    },
    {
      "cell_type": "code",
      "source": [
        "# Parámetros para ambas políticas\n",
        "Tiempo_total = 100 #Tiempo total de simulación\n",
        "Inventario_maximo = 30 #Nivel de inventario a reponer\n",
        "lamda = 3 #lambda de la exponencial\n",
        "longitud_dias = 8 #Longitud de días entre cada llegada del proveedor\n",
        "costounitario = 1 #Costo unitario para mantener inventario\n",
        "costoperdida = 10 #Costo por venta perdida\n",
        "costo_orden = 50 #Costo por ordenar"
      ],
      "metadata": {
        "id": "QY-0xxn1cJXo"
      },
      "execution_count": 36,
      "outputs": []
    },
    {
      "cell_type": "code",
      "source": [
        "Nivel_maxInventario1 = 0 #Nivel máximo de inventario antes de realizar un pedido"
      ],
      "metadata": {
        "id": "oG1uzmi5n436"
      },
      "execution_count": 37,
      "outputs": []
    },
    {
      "cell_type": "code",
      "source": [
        "costo1, listatiempo1, listainventario1 = simular_politica(Tiempo_total, Inventario_maximo, lamda, longitud_dias, costounitario, costoperdida, costo_orden, Nivel_maxInventario1)"
      ],
      "metadata": {
        "id": "wPwd13_OigP-"
      },
      "execution_count": 38,
      "outputs": []
    },
    {
      "cell_type": "code",
      "source": [
        "print(\"Costo total con política 1:\", costo1)"
      ],
      "metadata": {
        "colab": {
          "base_uri": "https://localhost:8080/"
        },
        "id": "O7X83dltmKEj",
        "outputId": "1dec60ad-3356-4de1-8452-de378d6400f2"
      },
      "execution_count": 39,
      "outputs": [
        {
          "output_type": "stream",
          "name": "stdout",
          "text": [
            "Costo total con política 1: 3132.4305225878275\n"
          ]
        }
      ]
    },
    {
      "cell_type": "markdown",
      "source": [
        "##2. Ordener hasta 30 artículos cuando el nivel de inventario sea menor o igual a 10"
      ],
      "metadata": {
        "id": "iwym_HKVihwc"
      }
    },
    {
      "cell_type": "code",
      "source": [
        "Nivel_maxInventario2 = 10 #Nivel máximo de inventario antes de realizar un pedido"
      ],
      "metadata": {
        "id": "N9Mg7wOhnw3Q"
      },
      "execution_count": 40,
      "outputs": []
    },
    {
      "cell_type": "code",
      "source": [
        "costo2, listatiempo2, listainventario2 = simular_politica(Tiempo_total, Inventario_maximo, lamda, longitud_dias, costounitario, costoperdida, costo_orden, Nivel_maxInventario2)"
      ],
      "metadata": {
        "id": "nO-xyMGTBF2A"
      },
      "execution_count": 41,
      "outputs": []
    },
    {
      "cell_type": "code",
      "source": [
        "print(\"Costo total con política 2:\", costo2)"
      ],
      "metadata": {
        "colab": {
          "base_uri": "https://localhost:8080/"
        },
        "id": "7QbbWgNgBIRq",
        "outputId": "792d3c00-0e1b-431e-b996-dfbb20450085"
      },
      "execution_count": 42,
      "outputs": [
        {
          "output_type": "stream",
          "name": "stdout",
          "text": [
            "Costo total con política 2: 2522.558026881627\n"
          ]
        }
      ]
    },
    {
      "cell_type": "code",
      "source": [
        "# Resultados\n",
        "print(\"Costo total con política 1:\", costo1)\n",
        "print(\"Costo total con política 2:\", costo2)"
      ],
      "metadata": {
        "colab": {
          "base_uri": "https://localhost:8080/"
        },
        "id": "7RguquIOBOlI",
        "outputId": "baefae04-19fe-49c2-ce4e-fc3712ef006f"
      },
      "execution_count": 43,
      "outputs": [
        {
          "output_type": "stream",
          "name": "stdout",
          "text": [
            "Costo total con política 1: 3132.4305225878275\n",
            "Costo total con política 2: 2522.558026881627\n"
          ]
        }
      ]
    },
    {
      "cell_type": "code",
      "source": [
        "if costo1 < costo2:\n",
        "    print(\"La política 1 es más económica.\")\n",
        "else:\n",
        "    print(\"La política 2 es más económica.\")"
      ],
      "metadata": {
        "colab": {
          "base_uri": "https://localhost:8080/"
        },
        "id": "QCH61ejzq-H-",
        "outputId": "c3b9c231-f5f3-41c7-af56-0b01ee184fef"
      },
      "execution_count": 44,
      "outputs": [
        {
          "output_type": "stream",
          "name": "stdout",
          "text": [
            "La política 2 es más económica.\n"
          ]
        }
      ]
    },
    {
      "cell_type": "code",
      "source": [
        "# Gráficas\n",
        "plt.figure(figsize=(12, 6))\n",
        "plt.subplot(2, 1, 1) #e está creando un subgráfico en una disposición de 2 filas por 1 columna y seleccionando el segundo subgráfico (que corresponde a la segunda fila)\n",
        "plt.plot(listatiempo1, listainventario1) #grafica distribución de inventario Política 1\n",
        "plt.xlabel('Tiempo (días)')\n",
        "plt.ylabel('Nivel de inventario')\n",
        "plt.title('Política 1')\n",
        "\n",
        "plt.subplot(2, 1, 2)\n",
        "plt.plot(listatiempo2, listainventario2) #grafica distribución de inventario Política 2\n",
        "plt.xlabel('Tiempo (días)')\n",
        "plt.ylabel('Nivel de inventario')\n",
        "plt.title('Política 2')\n",
        "\n",
        "plt.tight_layout() #para que los gráficos no se encimen\n",
        "plt.show()"
      ],
      "metadata": {
        "colab": {
          "base_uri": "https://localhost:8080/",
          "height": 607
        },
        "id": "PZhZsMbrBXeh",
        "outputId": "5507300d-6932-4513-e71d-2269a93d3600"
      },
      "execution_count": 45,
      "outputs": [
        {
          "output_type": "display_data",
          "data": {
            "text/plain": [
              "<Figure size 1200x600 with 2 Axes>"
            ],
            "image/png": "[encoded data removed]"
          },
          "metadata": {}
        }
      ]
    }
  ]
}