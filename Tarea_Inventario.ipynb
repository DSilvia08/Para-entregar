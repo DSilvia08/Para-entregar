{
  "nbformat": 4,
  "nbformat_minor": 0,
  "metadata": {
    "colab": {
      "provenance": [],
      "authorship_tag": "ABX9TyP/gs9ZwBmpccXrTWcAhxUi",
      "include_colab_link": true
    },
    "kernelspec": {
      "name": "python3",
      "display_name": "Python 3"
    },
    "language_info": {
      "name": "python"
    }
  },
  "cells": [
    {
      "cell_type": "markdown",
      "metadata": {
        "id": "view-in-github",
        "colab_type": "text"
      },
      "source": [
        "<a href=\"https://colab.research.google.com/github/DSilvia08/Para-entregar/blob/main/Tarea_Inventario.ipynb\" target=\"_parent\"><img src=\"https://colab.research.google.com/assets/colab-badge.svg\" alt=\"Open In Colab\"/></a>"
      ]
    },
    {
      "cell_type": "code",
      "source": [
        "import sys\n",
        "print(sys.version)"
      ],
      "metadata": {
        "colab": {
          "base_uri": "https://localhost:8080/"
        },
        "id": "2jIBLNNnT6x3",
        "outputId": "37d8408a-bc40-41e6-f2be-e3ef541ce13a"
      },
      "execution_count": null,
      "outputs": [
        {
          "output_type": "stream",
          "name": "stdout",
          "text": [
            "3.10.12 (main, Nov 20 2023, 15:14:05) [GCC 11.4.0]\n"
          ]
        }
      ]
    },
    {
      "cell_type": "markdown",
      "source": [
        "3.10.12 (main, Nov 20 2023, 15:14:05) [GCC 11.4.0]\n",
        "#Inventario"
      ],
      "metadata": {
        "id": "W4X9iIq5T6X2"
      }
    },
    {
      "cell_type": "code",
      "execution_count": 2,
      "metadata": {
        "id": "ceuKvnXfT2TO"
      },
      "outputs": [],
      "source": [
        "import random as rnd\n",
        "import numpy as np\n",
        "import matplotlib.pyplot as plt"
      ]
    },
    {
      "cell_type": "code",
      "source": [
        "# Definición de las demandas\n",
        "def demanda(u):\n",
        "    intervalos = [\n",
        "        (0.000, 0.010, 35), (0.010, 0.025, 36), (0.025, 0.045, 37), (0.045, 0.065, 38),\n",
        "        (0.065, 0.087, 39), (0.087, 0.110, 40), (0.110, 0.135, 41), (0.135, 0.162, 42),\n",
        "        (0.162, 0.190, 43), (0.190, 0.219, 44), (0.219, 0.254, 45), (0.254, 0.299, 46),\n",
        "        (0.299, 0.359, 47), (0.359, 0.424, 48), (0.424, 0.494, 49), (0.494, 0.574, 50),\n",
        "        (0.574, 0.649, 51), (0.649, 0.719, 52), (0.719, 0.784, 53), (0.784, 0.844, 54),\n",
        "        (0.844, 0.894, 55), (0.894, 0.934, 56), (0.934, 0.964, 57), (0.964, 0.980, 58),\n",
        "        (0.980, 0.995, 59), (0.995, 1.000, 60)\n",
        "    ] #una lista de tuplas que contienen X_i, X_i+1, y demanda correspondiente x\n",
        "    for inicio, fin, valor in intervalos:\n",
        "        if inicio <= u < fin: #X_i < R < X_i+1\n",
        "            return valor #retorna la demanda X"
      ],
      "metadata": {
        "id": "0bObMLGpUFyq"
      },
      "execution_count": 3,
      "outputs": []
    },
    {
      "cell_type": "code",
      "source": [
        "def Factores_estacionales(i): #Factores estacionales para cada mes del año\n",
        "    FE = [\n",
        "        (1.20, 1), (1.00, 2), (0.90, 3), (0.80, 4), (0.80, 5), (0.70, 6),\n",
        "        (0.80, 7), (0.90, 8), (1.00, 9), (1.20, 10), (1.30, 11), (1.40, 12)\n",
        "    ] #lista de tuplas, que tiene cada una factor estacional y Mes correspondiente\n",
        "    for factor, mes in FE:\n",
        "        if mes == i:\n",
        "            return factor #regresa el factor del mes i"
      ],
      "metadata": {
        "id": "DTqBiJkZUlK_"
      },
      "execution_count": 4,
      "outputs": []
    },
    {
      "cell_type": "code",
      "source": [
        "def tiempos_entrega(u): #Tiempo de entregas, probabilidad de que la orden llegue en:\n",
        "    if 0.00 < u < 0.30:\n",
        "        return 1  # un mes\n",
        "    elif 0.30 < u < 0.70:\n",
        "        return 2  # dos meses\n",
        "    elif 0.70 < u < 1.00:\n",
        "        return 3  # tres meses"
      ],
      "metadata": {
        "id": "cS9WZVZ_VON-"
      },
      "execution_count": 5,
      "outputs": []
    },
    {
      "cell_type": "code",
      "source": [
        "# Inicialización de variables\n",
        "inicial_inventario = 150\n",
        "R = 100 #nivel de reorden\n",
        "q = 200 #cantidad a ordenar\n",
        "#listas para guardar los datos para la tabla\n",
        "Inicial = [] #empieza con un inventario de 150\n",
        "NumAleatorio = [] #el que se manda a la función demanda(u)\n",
        "DemandaAjustada = [] #factor estacional * demanda\n",
        "Final = [] #inventario final\n",
        "Faltante = [] #inventario queda negativo, faltante=abs(final)\n",
        "Orden = [] #almacena las ordenes que se hicieron y las que no, no pone nada\n",
        "Promedio = [] #Inventario mensual promedio\n",
        "agregaciones_futuras = []\n",
        "suma_programada = False #indica si se hizo una orden False=No, True=sí\n",
        "Ordn=0 #conteo de ordenes inicializada en 0\n",
        "#\n",
        "# Simulación\n",
        "for i in range(1, 13):\n",
        "    # Sumar al inventario las agregaciones programadas para esta iteración\n",
        "    for j in range(len(agregaciones_futuras)):\n",
        "        if agregaciones_futuras[j][0] == i:\n",
        "            inicial_inventario += agregaciones_futuras[j][1]\n",
        "            print(f\"En la iteración {i}, se suma {agregaciones_futuras[j][1]} al inventario.\")\n",
        "            #mensaje que indica en qué iteración (mes) llega la orden\n",
        "    # Eliminar las agregaciones que ya se han procesado\n",
        "    agregaciones_futuras = [a for a in agregaciones_futuras if a[0] != i]\n",
        "\n",
        "    # Calcular el inventario final después de la demanda\n",
        "    Inicial.append(inicial_inventario) #agrega el incial\n",
        "    u1 = round(rnd.uniform(0, 1),6) #genera un número aleatorio entre 0 y 1\n",
        "                                    #con 6 decimales\n",
        "    NumAleatorio.append(u1) #agrega el número aleatorio a la lista\n",
        "    D = demanda(u1) #valor de demanda\n",
        "    FE = Factores_estacionales(i) #factor estacional del mes i\n",
        "    DA = round(D * FE) #Demanda ajustada = demanda * Factor estacional\n",
        "    DemandaAjustada.append(DA) #agrega la demanda ajustada a la lista correspondiente\n",
        "    Fina = inicial_inventario - DA #inventario final\n",
        "    print(f\"Iteración {i}: Inventario Inicial: {inicial_inventario}, Demanda: {D}, Inventario Final: {Fina}\")\n",
        "\n",
        "    # Revisar si el inventario final es menor que R\n",
        "    if Fina < R and not suma_programada: #cuando es menor que R se hace una orden\n",
        "        u2 = rnd.random()\n",
        "        X = tiempos_entrega(u2)\n",
        "        agregaciones_futuras.append((i + X, q)) #agrega la orden a la lista de agregaciones\n",
        "           #en el mes i+X meses agrega 200 al inventario inicial\n",
        "        Ordn=Ordn+1 #se hizo una orden\n",
        "        Orden.append(Ordn) #se registra\n",
        "        print(f\"Se programó sumar 200 al inventario en la iteración {i + X}.\") #mensaje de que se programó en cierta iteración\n",
        "        suma_programada = True  # Indicar que ya se ha programado una suma\n",
        "                #no se vuelve a hacer una orden hasta que la que se hizo llegue\n",
        "    else:\n",
        "        Orden.append(\"\") #no se registra nada si no hubo orden y/o en espera de la orden\n",
        "\n",
        "    # Si la condición Final < R no se cumple, resetear el indicador\n",
        "    if Fina >= R:\n",
        "        suma_programada = False #no hay orden programada y/o en espera de una anterior\n",
        "\n",
        "    if Fina <= 0:\n",
        "        Falt=abs(Fina) #inventario en 0, Faltante es demanda insatisfecha\n",
        "        Faltante.append(Falt)\n",
        "        Fina=0 # El inventario no puede ser negativo\n",
        "        Final.append(Fina)\n",
        "    else:\n",
        "        Final.append(Fina)\n",
        "        Falt=0 #inventario positivo\n",
        "        Faltante.append(0) #no hay faltante\n",
        "\n",
        "    if Fina>0:\n",
        "      IMProm = (inicial_inventario + Fina) / 2 #inventario positivo\n",
        "    else:\n",
        "      IMProm = (inicial_inventario/2)*(inicial_inventario/DA) #inventario negativo/en cero\n",
        "    Promedio.append(IMProm)\n",
        "\n",
        "    # Actualizar el inventario inicial para la siguiente iteración\n",
        "    inicial_inventario = Fina-Falt #Inventario final - Faltante"
      ],
      "metadata": {
        "colab": {
          "base_uri": "https://localhost:8080/"
        },
        "id": "Z9zibnG8VdVX",
        "outputId": "af216775-19b6-425c-a418-57a99e08b2ce"
      },
      "execution_count": 13,
      "outputs": [
        {
          "output_type": "stream",
          "name": "stdout",
          "text": [
            "Iteración 1: Inventario Inicial: 150, Demanda: 47, Inventario Final: 94\n",
            "Se programó sumar 200 al inventario en la iteración 2.\n",
            "En la iteración 2, se suma 200 al inventario.\n",
            "Iteración 2: Inventario Inicial: 294, Demanda: 54, Inventario Final: 240\n",
            "Iteración 3: Inventario Inicial: 240, Demanda: 53, Inventario Final: 192\n",
            "Iteración 4: Inventario Inicial: 192, Demanda: 50, Inventario Final: 152\n",
            "Iteración 5: Inventario Inicial: 152, Demanda: 41, Inventario Final: 119\n",
            "Iteración 6: Inventario Inicial: 119, Demanda: 54, Inventario Final: 81\n",
            "Se programó sumar 200 al inventario en la iteración 9.\n",
            "Iteración 7: Inventario Inicial: 81, Demanda: 49, Inventario Final: 42\n",
            "Iteración 8: Inventario Inicial: 42, Demanda: 51, Inventario Final: -4\n",
            "En la iteración 9, se suma 200 al inventario.\n",
            "Iteración 9: Inventario Inicial: 196, Demanda: 46, Inventario Final: 150\n",
            "Iteración 10: Inventario Inicial: 150, Demanda: 49, Inventario Final: 91\n",
            "Se programó sumar 200 al inventario en la iteración 12.\n",
            "Iteración 11: Inventario Inicial: 91, Demanda: 45, Inventario Final: 33\n",
            "En la iteración 12, se suma 200 al inventario.\n",
            "Iteración 12: Inventario Inicial: 233, Demanda: 51, Inventario Final: 162\n"
          ]
        }
      ]
    },
    {
      "cell_type": "code",
      "source": [
        "# Mostrar los resultados en forma de tabla\n",
        "print(\"{:<5} {:<15} {:<15} {:<15} {:<15} {:<15} {:<15} {:<15}\".format(\"Mes\", \"Inicial\", \"NumeroA\", \"DA\", \"FINAL\", \"Faltante\", \"Orden\", \"Inventario Promedio\"))\n",
        "for i in range(12):\n",
        "    print(\"{:<5} {:<15} {:<15} {:<15} {:<15} {:<15} {:<15} {:<15}\".format(\n",
        "        i + 1, Inicial[i], NumAleatorio[i], DemandaAjustada[i], Final[i], Faltante[i], Orden[i], Promedio[i]\n",
        "    ))"
      ],
      "metadata": {
        "colab": {
          "base_uri": "https://localhost:8080/"
        },
        "id": "QFqr_dQfZZ7a",
        "outputId": "49ef86c7-c9ed-4236-fcc2-5191c1fb99a2"
      },
      "execution_count": 14,
      "outputs": [
        {
          "output_type": "stream",
          "name": "stdout",
          "text": [
            "Mes   Inicial         NumeroA         DA              FINAL           Faltante        Orden           Inventario Promedio\n",
            "1     150             0.332002        56              94              0               1               122.0          \n",
            "2     294             0.837954        54              240             0                               267.0          \n",
            "3     240             0.776094        48              192             0                               216.0          \n",
            "4     192             0.530487        40              152             0                               172.0          \n",
            "5     152             0.111464        33              119             0                               135.5          \n",
            "6     119             0.841254        38              81              0               2               100.0          \n",
            "7     81              0.488335        39              42              0                               61.5           \n",
            "8     42              0.58104         46              0               4                               19.173913043478258\n",
            "9     196             0.255331        46              150             0                               173.0          \n",
            "10    150             0.439244        59              91              0               3               120.5          \n",
            "11    91              0.242511        58              33              0                               62.0           \n",
            "12    233             0.58461         71              162             0                               197.5          \n"
          ]
        }
      ]
    },
    {
      "cell_type": "code",
      "source": [
        "x=np.linspace(0,12,12) #en un año\n",
        "plt.step(x,Inicial) #Distribución del inventario durante 1 año\n",
        "plt.axhline(100, color='g', linestyle='--', label=\"Nivel de reorden\")\n",
        "plt.xlabel('Meses')\n",
        "plt.ylabel('Inventario')\n",
        "plt.title('Distribución del inventario durante 1 año')\n",
        "plt.legend()\n",
        "plt.show()"
      ],
      "metadata": {
        "colab": {
          "base_uri": "https://localhost:8080/",
          "height": 472
        },
        "id": "yzaxXRpmZhuO",
        "outputId": "b2d24014-7e5f-405f-d9c5-7b670d018430"
      },
      "execution_count": 15,
      "outputs": [
        {
          "output_type": "display_data",
          "data": {
            "text/plain": [
              "<Figure size 640x480 with 1 Axes>"
            ],
            "image/png": "[encoded data removed]"
          },
          "metadata": {}
        }
      ]
    },
    {
      "cell_type": "markdown",
      "source": [
        "Costo de ordenar = \\$100 orden\n",
        "\n",
        "\n",
        "Costo de inventario = \\$20/unidad/año\n",
        "\n",
        "\n",
        "Costo de faltante = \\$50/unidad"
      ],
      "metadata": {
        "id": "kU1vdAZFbDse"
      }
    },
    {
      "cell_type": "code",
      "source": [
        "# Tabla de costos\n",
        "print(\"{:<15} {:<25} {:<15} {:<15}\".format(\"C Ordenar\", \"C. llevar inventario\", \"C. faltante\", \"total\")) #encabezado\n",
        "A=Ordn*100 #Costo de ordenar * número de ordenes que se hicieron\n",
        "B=sum(Final)*20 #Costo de llevar inventario * suma de inventario final\n",
        "C=sum(Faltante)*50 #penalización por demanda insatisfecha\n",
        "D=A+B+C #total\n",
        "print(\"{:<15} {:<25} {:<15} {:<15}\".format(\n",
        "        A,B,C,D)) #datos de la tabla"
      ],
      "metadata": {
        "colab": {
          "base_uri": "https://localhost:8080/"
        },
        "id": "ujd2Xq_kb4Um",
        "outputId": "c900f119-8102-428c-8122-010aa011d0fa"
      },
      "execution_count": 16,
      "outputs": [
        {
          "output_type": "stream",
          "name": "stdout",
          "text": [
            "C Ordenar       C. llevar inventario      C. faltante     total          \n",
            "300             27120                     200             27620          \n"
          ]
        }
      ]
    }
  ]
}