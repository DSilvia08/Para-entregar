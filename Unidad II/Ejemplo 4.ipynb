{
  "cells": [
    {
      "cell_type": "markdown",
      "id": "c21e5530",
      "metadata": {
        "id": "c21e5530"
      },
      "source": [
        "# Ejemplo: Flecha y cojinete"
      ]
    },
    {
      "cell_type": "markdown",
      "id": "61f9bd36",
      "metadata": {
        "id": "61f9bd36"
      },
      "source": [
        "Una flecha será embonada en un cojinete como se muestra a continuación\n",
        "\n",
        "<img src=\"https://github.com/Medetl/Simulacion/blob/main/Unidad%20II/cojinete.png?raw=1\">"
      ]
    },
    {
      "cell_type": "markdown",
      "id": "5f658ca1",
      "metadata": {
        "id": "5f658ca1"
      },
      "source": [
        "Si $x_1$ sigue una distribución normal con media $1.5$ y varianza $0.0016$, y $x_2$ esta misma distribución con media $1.48$ y varianza $0.0009$, determine:\n",
        "\n",
        "a) La probabilidad de que haya interferencia.\n",
        "\n",
        "b) El número de veces que es necesario simular el experimento, si se quiere que la probabilidad de interferencia estimada difiera de su valor verdadero en menos de $0.01$, con un nivel de seguridad del $95\\%.$"
      ]
    },
    {
      "cell_type": "markdown",
      "id": "fac00420",
      "metadata": {
        "id": "fac00420"
      },
      "source": [
        "Vamos a resolver este problema, procurando seguir la metodología vista en el curso."
      ]
    },
    {
      "cell_type": "markdown",
      "id": "ccd32164",
      "metadata": {
        "id": "ccd32164"
      },
      "source": [
        "### 1. Identifique las variables\n",
        "\n",
        "Tenemos dos: $x_1$ y $x_2$."
      ]
    },
    {
      "cell_type": "markdown",
      "id": "ae8735e5",
      "metadata": {
        "id": "ae8735e5"
      },
      "source": [
        "### 2 y 3. Determine la distribución de probabilidad y modele las variables aleatorias\n",
        "\n",
        "En el planteamiento ya se especifica que $x_1 \\sim N(1.5, 0.04)$ y que $x_1 \\sim N(1.48, 0.03)$."
      ]
    },
    {
      "cell_type": "markdown",
      "id": "b1b57a13",
      "metadata": {
        "id": "b1b57a13"
      },
      "source": [
        "### 4. Defina el modelo del sistema y los objetivos de la simulación\n",
        "\n",
        "La diferencia $x_1 - x_2$ modela adecuadamente el sistema.\n",
        "\n",
        "Si $x_2 - x_1 > 0$ el diametro de la flecha es más grande que el espacio en el cojinte y, por tanto, hay interferencia. De lo contrario, las piezas embonan sin problema.\n",
        "\n",
        "Objetivo: determinar la frecuencia con que esto ocurre, lo cual nos da una esrimación de la probabilidad de interefrencia.\n",
        "\n",
        "Una forma de implementarlo es mediante el siguiente código."
      ]
    },
    {
      "cell_type": "code",
      "execution_count": 2,
      "id": "191b1e9b",
      "metadata": {
        "id": "191b1e9b"
      },
      "outputs": [],
      "source": [
        "import numpy as np\n",
        "import random\n",
        "import matplotlib.pyplot as plt\n",
        "from scipy.stats import norm"
      ]
    },
    {
      "cell_type": "code",
      "execution_count": 21,
      "id": "e64c27d2",
      "metadata": {
        "id": "e64c27d2"
      },
      "outputs": [],
      "source": [
        "def interferencia():                #Esta función devuelve el valor 1 si hay interferencia o 0 si no la hay.\n",
        "    interf=0\n",
        "    x_1 = random.gauss(1.50,0.04)    #La funcion gauss genera un número que sigue una distribucion normal con\n",
        "    x_2 = random.gauss(1.48,0.03)   # la media y la desvicion estandar especificados.\n",
        "    if 0.0 < x_2 - x_1:\n",
        "        interf += 1\n",
        "    return interf"
      ]
    },
    {
      "cell_type": "code",
      "execution_count": 22,
      "id": "ebe51777",
      "metadata": {
        "colab": {
          "base_uri": "https://localhost:8080/"
        },
        "id": "ebe51777",
        "outputId": "1ef99613-e2e2-4ade-bb4b-4ad5ecc1221b"
      },
      "outputs": [
        {
          "output_type": "execute_result",
          "data": {
            "text/plain": [
              "0"
            ]
          },
          "metadata": {},
          "execution_count": 22
        }
      ],
      "source": [
        "interferencia()"
      ]
    },
    {
      "cell_type": "markdown",
      "id": "d6186dac",
      "metadata": {
        "id": "d6186dac"
      },
      "source": [
        "### 5. Diseñe el experimento\n",
        "\n",
        "Para estimar la probabilidad de interferencia, ejecutamos $n$ veces la función anterior y calculamos de manera acumulativa\n",
        "la probabilidad de interferencia."
      ]
    },
    {
      "cell_type": "code",
      "execution_count": 23,
      "id": "f9a766a5",
      "metadata": {
        "id": "f9a766a5"
      },
      "outputs": [],
      "source": [
        "def prob_inter(n):\n",
        "    prob = []                       # Esta funcion devuelve esta lista \"prob\", con los valores de la probabilidad\n",
        "    inter = 0                       # estimada al contar las veces que hay interferencia y dividir entre las veces que\n",
        "    for i in range(n):              # se ha reptido la observacion mientras aumenta el numero de iteraciones.\n",
        "        inter += interferencia()\n",
        "        prob.append(inter/(i+1))\n",
        "    return prob"
      ]
    },
    {
      "cell_type": "code",
      "execution_count": 24,
      "id": "8099a245",
      "metadata": {
        "id": "8099a245"
      },
      "outputs": [],
      "source": [
        "X = prob_inter(500)                # Asignamos valores a n y realizamos el experimento"
      ]
    },
    {
      "cell_type": "code",
      "execution_count": 25,
      "id": "c5a5a3c2",
      "metadata": {
        "colab": {
          "base_uri": "https://localhost:8080/",
          "height": 448
        },
        "id": "c5a5a3c2",
        "outputId": "1b6972b9-1064-490d-b11d-915e891e8d18"
      },
      "outputs": [
        {
          "output_type": "execute_result",
          "data": {
            "text/plain": [
              "[<matplotlib.lines.Line2D at 0x7fccdd21c1f0>]"
            ]
          },
          "metadata": {},
          "execution_count": 25
        },
        {
          "output_type": "display_data",
          "data": {
            "text/plain": [
              "<Figure size 640x480 with 1 Axes>"
            ],
            "image/png": "[encoded data removed]"
          },
          "metadata": {}
        }
      ],
      "source": [
        "plt.plot(X)                         # La gráfica muestra que la convergencia está garantizada con 500 iteraciones\n",
        "                                    # Sin embargo, diferentes ejecuciones darán resultados distintos"
      ]
    },
    {
      "cell_type": "code",
      "execution_count": 26,
      "id": "4ac4c689",
      "metadata": {
        "colab": {
          "base_uri": "https://localhost:8080/"
        },
        "id": "4ac4c689",
        "outputId": "7ee1d0a6-06e9-4b29-aace-21bbcbb4f952"
      },
      "outputs": [
        {
          "output_type": "stream",
          "name": "stdout",
          "text": [
            "0.3472685266570901 0.03465247181425756\n"
          ]
        }
      ],
      "source": [
        "print(np.mean(X), np.std(X))"
      ]
    },
    {
      "cell_type": "markdown",
      "id": "34727279",
      "metadata": {
        "id": "34727279"
      },
      "source": [
        "### 6. Repita el experimento $n$ veces\n",
        "\n",
        "Una forma de hacerlo es mediante el siguiente codigo."
      ]
    },
    {
      "cell_type": "code",
      "execution_count": 27,
      "id": "908f1884",
      "metadata": {
        "id": "908f1884"
      },
      "outputs": [],
      "source": [
        "def modelo(n):\n",
        "    lista=[]\n",
        "    for i in range(n):\n",
        "        s = prob_inter(500)\n",
        "        lista.append(np.mean(s))\n",
        "    return lista"
      ]
    },
    {
      "cell_type": "code",
      "execution_count": 45,
      "id": "34868564",
      "metadata": {
        "id": "34868564"
      },
      "outputs": [],
      "source": [
        "Y=modelo(120) #el número de experimentos es menor al número de simulaciones"
      ]
    },
    {
      "cell_type": "code",
      "execution_count": 46,
      "id": "8a95845e",
      "metadata": {
        "colab": {
          "base_uri": "https://localhost:8080/",
          "height": 430
        },
        "id": "8a95845e",
        "outputId": "5a56abcb-409f-4be7-a0ee-eb5e2ec205fb"
      },
      "outputs": [
        {
          "output_type": "display_data",
          "data": {
            "text/plain": [
              "<Figure size 640x480 with 1 Axes>"
            ],
            "image/png": "[encoded data removed]"
          },
          "metadata": {}
        }
      ],
      "source": [
        "plt.hist(Y)\n",
        "plt.show()"
      ]
    },
    {
      "cell_type": "code",
      "execution_count": 47,
      "id": "e892a16c",
      "metadata": {
        "colab": {
          "base_uri": "https://localhost:8080/"
        },
        "id": "e892a16c",
        "outputId": "62e7ce3b-a038-4c7e-8838-e5927e0e47f3"
      },
      "outputs": [
        {
          "output_type": "stream",
          "name": "stdout",
          "text": [
            "0.3431168344676 0.033132546827178\n"
          ]
        }
      ],
      "source": [
        "print(np.mean(Y), np.std(Y))"
      ]
    },
    {
      "cell_type": "markdown",
      "id": "e5dc2362",
      "metadata": {
        "id": "e5dc2362"
      },
      "source": [
        "### Paso 7. Hallamos el intervalo de confianza.\n",
        "\n",
        "$$\\bar{x}-z_{\\alpha/2} \\cdot \\frac{s}{\\sqrt{n}} < \\mu < \\bar{x}+z_{\\alpha/2}\\cdot \\frac{s}{\\sqrt{n}}$$"
      ]
    },
    {
      "cell_type": "code",
      "execution_count": 48,
      "id": "23d0b48e",
      "metadata": {
        "colab": {
          "base_uri": "https://localhost:8080/"
        },
        "id": "23d0b48e",
        "outputId": "087c15d0-6384-41db-9bb7-060584c43ec3"
      },
      "outputs": [
        {
          "output_type": "execute_result",
          "data": {
            "text/plain": [
              "0.3431168344676"
            ]
          },
          "metadata": {},
          "execution_count": 48
        }
      ],
      "source": [
        "np.mean(Y)"
      ]
    },
    {
      "cell_type": "code",
      "execution_count": 49,
      "id": "b29c74e6",
      "metadata": {
        "colab": {
          "base_uri": "https://localhost:8080/"
        },
        "id": "b29c74e6",
        "outputId": "ec3d6654-2fc2-4f75-fde5-79acd6290f81"
      },
      "outputs": [
        {
          "output_type": "execute_result",
          "data": {
            "text/plain": [
              "(0.3339329610401245, 0.3523007078950755)"
            ]
          },
          "metadata": {},
          "execution_count": 49
        }
      ],
      "source": [
        "np.mean(Y) - 1.96*np.std(Y)/np.sqrt(50), np.mean(Y) + 1.96*np.std(Y)/np.sqrt(50)"
      ]
    },
    {
      "cell_type": "markdown",
      "source": [
        "Si seleccionamos nuestra muestra a partir de una población normal o, a falta de ésta, si $n$ es lo suficientemente grande, podemos establecer un intervalo de confianza para $\\mu$ considerando la distribución muestral de $\\bar X$\n",
        "\\\n",
        "De acuerdo con el teorema del límite central, podemos esperar a que la distribución muestral de $\\bar X$ esté distribuída de forma aproximadamente normal con media $\\mu_{\\bar x}=\\mu$ y desviación estándar $\\sigma_{\\bar x}=\\sigma / \\sqrt{n}$.\n",
        "\\\n",
        "Al escribir $z_{\\alpha/2}$ para el valor de $z$ por arriba del cual encontramos un área de $\\alpha/2$ bajo la curva normal\n",
        "$$P(-z_{\\alpha/2}<Z<z_{\\alpha/2})=1-\\alpha$$\n",
        "donde\n",
        "$$Z=\\frac{\\bar X-\\mu}{\\sigma/\\sqrt{n}}$$\n",
        "En consecuencia\n",
        "$$P(-z_{\\alpha/2} < \\frac{\\bar x-\\mu_0}{\\sigma/\\sqrt{n}} < z_{\\alpha/2})=1-\\alpha$$\n",
        "Si multiplicamos cada término en la desigualdad por $\\sigma/\\sqrt{n}$ y después restamos $\\bar X$ de cada término, y enseguida multiplicamos por $-1$ (para invertir el sentido de las desigualdades).\n",
        "$$P(\\bar{X}-z_{\\alpha/2} \\cdot \\frac{\\sigma}{\\sqrt{n}} < \\mu < \\bar{X}+z_{\\alpha/2}\\cdot \\frac{\\sigma}{\\sqrt{n}})=1-\\alpha$$\n"
      ],
      "metadata": {
        "id": "xiPrhsbFk5q6"
      },
      "id": "xiPrhsbFk5q6"
    },
    {
      "cell_type": "markdown",
      "source": [
        "**Intervalo de confianza de $\\mu$ cuando se conoce $\\sigma^2$**\n",
        "\\\n",
        "Si $\\bar x$ es la media de nuestra variable aleatoria de tamaño $n$ de una población de la que se conoce su varianza, lo que da un intervalo de confianza de $100(1-\\alpha)\\%$ para $\\mu$ es\n",
        "$$\\bar{x}-z_{\\alpha/2} \\cdot \\frac{\\sigma}{\\sqrt{n}} < \\mu < \\bar{x}+z_{\\alpha/2}\\cdot \\frac{\\sigma}{\\sqrt{n}}$$\n",
        "Donde $z_{\\alpha/2}$ es el valor de $z$ que deja una área de $\\alpha/2$ a la derecha"
      ],
      "metadata": {
        "id": "nbpGAZGWBdRH"
      },
      "id": "nbpGAZGWBdRH"
    },
    {
      "cell_type": "markdown",
      "id": "112c0954",
      "metadata": {
        "id": "112c0954"
      },
      "source": [
        "### Para determinar el número de simulaciones"
      ]
    },
    {
      "cell_type": "markdown",
      "id": "0a1a63e7",
      "metadata": {
        "id": "0a1a63e7"
      },
      "source": [
        "$$ N > \\Bigg( \\frac{2 \\sigma z_{\\alpha/2}}{\\epsilon} \\Bigg) ^2 $$"
      ]
    },
    {
      "cell_type": "markdown",
      "source": [
        "Teorema 1. Si utilizamos $\\bar x$ como una estimación de $\\mu$, podemos tener $100(1-\\alpha)\\%$ de confianza en que el error no excederá a $z_{\\alpha/2}\\frac{\\sigma}{\\sqrt{n}}$\n",
        "\\\n",
        "Con frecuencia queremos saber qué tan grande necesita ser una muestra para poder estar seguros de que el error al estimar $\\mu$ será menor que una cantidad específica $\\epsilon$. Por medio del teorema anterior debermos elegir n de manera que $z_{\\alpha/2}\\frac{\\sigma}{\\sqrt{n}}=\\epsilon$. al resolver obtenemos\n",
        "\n",
        "Teorema 2. Si usamos $\\bar x$ como una estimación de $\\mu$, podemos obtener $100(1-\\alpha)\\%$ de confianza de que el error no excederá a una cantidad específica $\\epsilon$ cuando el tamaño de la muestra sea\n",
        "$$n=(\\frac{\\sigma z_{\\alpha/2}}{\\epsilon})^2$$\n",
        "\\\n",
        "Cuando resolvemos para la muestra con tamaño n, redondeamos todos los valores decimales al siguiente número entero. Si seguimos este principio, podemos estar seguros de que nuestro grado de confianza nunca caerá por debajo del $100(1-\\alpha)\\%$."
      ],
      "metadata": {
        "id": "3tdMpfb_5RnU"
      },
      "id": "3tdMpfb_5RnU"
    },
    {
      "cell_type": "code",
      "execution_count": 52,
      "id": "1478d745",
      "metadata": {
        "id": "1478d745"
      },
      "outputs": [],
      "source": [
        "N = (2*np.std(X)*1.96/0.01)**2"
      ]
    },
    {
      "cell_type": "code",
      "execution_count": 53,
      "id": "fa6ae0ce",
      "metadata": {
        "colab": {
          "base_uri": "https://localhost:8080/"
        },
        "id": "fa6ae0ce",
        "outputId": "18b73538-5f7e-4292-fe04-3e4462a796eb"
      },
      "outputs": [
        {
          "output_type": "stream",
          "name": "stdout",
          "text": [
            "184.51877891928527\n"
          ]
        }
      ],
      "source": [
        "print(N)"
      ]
    },
    {
      "cell_type": "markdown",
      "id": "a6d1c695",
      "metadata": {
        "id": "a6d1c695"
      },
      "source": [
        "### Podemos comparar con la **solución analítica** del problema.\n",
        "\n",
        "Para ello usamos el **teorema de resta de dos variables aleatorias normales**.\n",
        "\n",
        "Si $X$ y $Y$ son variables aleatorias independientes y normalmente distribuidas, es decir\\\n",
        "$$X\\sim N(\\mu_X,\\sigma_X)$$\n",
        "entonces la diferencia $X-Y$ también está normalmente distribuida.\n",
        "$$Z\\sim N(\\mu_X-\\mu_Y,\\sigma^2_X+\\sigma^2_Y)$$\n",
        "\\\n",
        "Tenemos:\\\n",
        "$$x_1\\sim N(1.5,0.04)$$\n",
        "$$x_2\\sim N(1.48,0.03)$$"
      ]
    },
    {
      "cell_type": "markdown",
      "source": [
        "Queremos saber la probabilidad de interferencia. Hay interferencia cuando el diámetro de la flecha es más grande que el cojinete, es decir: $$x_2>x_1$$\n",
        "$$x_2-x_1>0$$\n",
        "\n",
        "$x_2$ y $x_1$ son variables aleatorias independientes y normalmente distribuidas, su diferencia resulta:\n",
        "$$x_3\\sim N(\\mu_{x2}-\\mu_{x1},\\sigma^2_{x2}+\\sigma^2_{x1})$$\n",
        "\\\n",
        "$$\\mu_{x2}-\\mu_{x1}=1.48-1.50=-0.02=\\mu_3$$\n",
        "$$\\sqrt{\\sigma^2_{x1}+\\sigma^2_{x2}}=\\sqrt{0.03^2+0.04^2}=0.05=\\sigma_3$$\n",
        "\\\n",
        "$$x_3\\sim N(-0.02,0.05)$$\n",
        "$x_3$ es una variable aleatoria normal $z$ con media $-0.02$ y varianza $0.05^2$.\n",
        "\\\n",
        "Así\n",
        "$$P(interferencia)=P(x_2-x_1>0)=P(x_3>0)$$\n",
        "Hacemos la transformación en Z\n",
        "$$Z=\\frac{X-\\mu}{\\sigma}$$\n",
        "$$Z=\\frac{0-(-0.02)}{0.05}=0.04$$\n",
        "\\\n",
        "$$P(Z>0.4)=\\phi(0.4)$$\n",
        "El valor de $\\phi(0.4)$ lo sacamos de la tabla de áreas bajo la curva normal.\n",
        "Entonces\n",
        "$$P(x_3>0)=1-\\phi(0.4)$$\n",
        "$$1-0.6554=0.3446$$\n",
        "Es decir, el valor $\\phi(0.4)$ deja un área de $0.6554$ a la derecha, entonces a la izquierda deja un área de $0.3446$. En conclusión\n",
        "$$P(Interferencia)=0.3446=34.46\\%$$\n"
      ],
      "metadata": {
        "id": "zBE56h-WNpzp"
      },
      "id": "zBE56h-WNpzp"
    },
    {
      "cell_type": "code",
      "execution_count": 54,
      "id": "7284bee0",
      "metadata": {
        "colab": {
          "base_uri": "https://localhost:8080/"
        },
        "id": "7284bee0",
        "outputId": "0367d7da-2ae0-4319-c5d8-fedf7ead7ea2"
      },
      "outputs": [
        {
          "output_type": "execute_result",
          "data": {
            "text/plain": [
              "0.3445782583896758"
            ]
          },
          "metadata": {},
          "execution_count": 54
        }
      ],
      "source": [
        "norm.cdf(-0.04, -0.02, 0.05)"
      ]
    },
    {
      "cell_type": "markdown",
      "source": [
        "La funcion norm.cdf devuelve el valor de la función acumulativa en el punto especificado, lo que representa la probabilidad de que una variable aleatoria normal sea menor o igual a ese punto.\n",
        "\\\n",
        "En este caso $x_3$ con media $-0.02$ y desviación estándar $0.05$ sea menor o igual a $-0.04$"
      ],
      "metadata": {
        "id": "vNydgjCicoSR"
      },
      "id": "vNydgjCicoSR"
    },
    {
      "cell_type": "code",
      "execution_count": 55,
      "id": "a1a842a2",
      "metadata": {
        "colab": {
          "base_uri": "https://localhost:8080/"
        },
        "id": "a1a842a2",
        "outputId": "40af20cf-575a-4da2-b685-ac0a3d5d3c85"
      },
      "outputs": [
        {
          "output_type": "execute_result",
          "data": {
            "text/plain": [
              "0.0014614239220758218"
            ]
          },
          "metadata": {},
          "execution_count": 55
        }
      ],
      "source": [
        "error=norm.cdf(-0.04, -0.02, 0.05)-np.mean(Y)\n",
        "abs(error)"
      ]
    },
    {
      "cell_type": "markdown",
      "source": [
        "El intervalo de confianza del $100(1-\\alpha)\\%$ ofrece un estimado de la precisión de la estimación puntual. Si $\\mu$ es realmente el valor central del intervalo entonces $\\bar x$ estima $\\mu$ sin error. La mayoría de veces, sin embargo, $\\bar x$ no será exactamente igual a $\\mu$ y la estimación puntual será errónea. La magnitud de este error será el valor absoluto de la diferencia entre $\\mu$ y $\\bar x$, de manera que podemos tener $100(1-\\alpha)\\%$ de confianza en que esta diferencia no excederá a $z_{\\alpha/2}\\frac{\\sigma}{\\sqrt{n}}$"
      ],
      "metadata": {
        "id": "EwwhgHFr8Ozz"
      },
      "id": "EwwhgHFr8Ozz"
    }
  ],
  "metadata": {
    "kernelspec": {
      "display_name": "Python 3 (ipykernel)",
      "language": "python",
      "name": "python3"
    },
    "language_info": {
      "codemirror_mode": {
        "name": "ipython",
        "version": 3
      },
      "file_extension": ".py",
      "mimetype": "text/x-python",
      "name": "python",
      "nbconvert_exporter": "python",
      "pygments_lexer": "ipython3",
      "version": "3.7.3"
    },
    "colab": {
      "provenance": []
    }
  },
  "nbformat": 4,
  "nbformat_minor": 5
}