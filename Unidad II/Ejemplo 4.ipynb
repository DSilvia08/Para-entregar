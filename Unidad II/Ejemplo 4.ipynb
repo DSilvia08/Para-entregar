{
  "cells": [
    {
      "cell_type": "markdown",
      "id": "c21e5530",
      "metadata": {
        "id": "c21e5530"
      },
      "source": [
        "# Ejemplo: Flecha y cojinete"
      ]
    },
    {
      "cell_type": "markdown",
      "id": "61f9bd36",
      "metadata": {
        "id": "61f9bd36"
      },
      "source": [
        "Una flecha será embonada en un cojinete como se muestra a continuación\n",
        "\n",
        "<img src=\"https://github.com/Medetl/Simulacion/blob/main/Unidad%20II/cojinete.png?raw=1\">"
      ]
    },
    {
      "cell_type": "markdown",
      "id": "5f658ca1",
      "metadata": {
        "id": "5f658ca1"
      },
      "source": [
        "Si $x_1$ sigue una distribución normal con media $1.5$ y varianza $0.0016$, y $x_2$ esta misma distribución con media $1.48$ y varianza $0.0009$, determine:\n",
        "\n",
        "a) La probabilidad de que haya interferencia.\n",
        "\n",
        "b) El número de veces que es necesario simular el experimento, si se quiere que la probabilidad de interferencia estimada difiera de su valor verdadero en menos de $0.01$, con un nivel de seguridad del $95\\%.$"
      ]
    },
    {
      "cell_type": "markdown",
      "id": "fac00420",
      "metadata": {
        "id": "fac00420"
      },
      "source": [
        "Vamos a resolver este problema, procurando seguir la metodología vista en el curso."
      ]
    },
    {
      "cell_type": "markdown",
      "id": "ccd32164",
      "metadata": {
        "id": "ccd32164"
      },
      "source": [
        "### 1. Identifique las variables\n",
        "\n",
        "Tenemos dos: $x_1$ y $x_2$."
      ]
    },
    {
      "cell_type": "markdown",
      "id": "ae8735e5",
      "metadata": {
        "id": "ae8735e5"
      },
      "source": [
        "### 2 y 3. Determine la distribución de probabilidad y modele las variables aleatorias\n",
        "\n",
        "En el planteamiento ya se especifica que $x_1 \\sim N(1.5, 0.04)$ y que $x_1 \\sim N(1.48, 0.03)$."
      ]
    },
    {
      "cell_type": "markdown",
      "id": "b1b57a13",
      "metadata": {
        "id": "b1b57a13"
      },
      "source": [
        "### 4. Defina el modelo del sistema y los objetivos de la simulación\n",
        "\n",
        "La diferencia $x_1 - x_2$ modela adecuadamente el sistema.\n",
        "\n",
        "Si $x_2 - x_1 > 0$ el diametro de la flecha es más grande que el espacio en el cojinte y, por tanto, hay interferencia. De lo contrario, las piezas embonan sin problema.\n",
        "\n",
        "Objetivo: determinar la frecuencia con que esto ocurre, lo cual nos da una esrimación de la probabilidad de interefrencia.\n",
        "\n",
        "Una forma de implementarlo es mediante el siguiente código."
      ]
    },
    {
      "cell_type": "code",
      "execution_count": 2,
      "id": "191b1e9b",
      "metadata": {
        "id": "191b1e9b"
      },
      "outputs": [],
      "source": [
        "import numpy as np\n",
        "import random\n",
        "import matplotlib.pyplot as plt\n",
        "from scipy.stats import norm"
      ]
    },
    {
      "cell_type": "code",
      "execution_count": 7,
      "id": "e64c27d2",
      "metadata": {
        "id": "e64c27d2"
      },
      "outputs": [],
      "source": [
        "def interferencia():                #Esta función devuelve el valor 1 si hay interferencia o 0 si no la hay.\n",
        "    interf=0\n",
        "    x_1 = random.gauss(1.50,0.04)    #La funcion gauss genera un número que sigue una distribucion normal con\n",
        "    x_2 = random.gauss(1.48,0.03)   # la media y la desvicion estandar especificados.\n",
        "    if 0.0 < x_2 - x_1:\n",
        "        interf += 1\n",
        "    return interf"
      ]
    },
    {
      "cell_type": "code",
      "execution_count": 8,
      "id": "ebe51777",
      "metadata": {
        "colab": {
          "base_uri": "https://localhost:8080/"
        },
        "id": "ebe51777",
        "outputId": "8db4cc09-d5a9-4907-cc7a-c261fc40c2e8"
      },
      "outputs": [
        {
          "output_type": "execute_result",
          "data": {
            "text/plain": [
              "0"
            ]
          },
          "metadata": {},
          "execution_count": 8
        }
      ],
      "source": [
        "interferencia()"
      ]
    },
    {
      "cell_type": "markdown",
      "id": "d6186dac",
      "metadata": {
        "id": "d6186dac"
      },
      "source": [
        "### 5. Diseñe el experimento\n",
        "\n",
        "Para estimar la probabilidad de interferencia, ejecutamos $n$ veces la función anterior y calculamos de manera acumulativa\n",
        "la probabilidad de interferencia."
      ]
    },
    {
      "cell_type": "code",
      "execution_count": 9,
      "id": "f9a766a5",
      "metadata": {
        "id": "f9a766a5"
      },
      "outputs": [],
      "source": [
        "def prob_inter(n):\n",
        "    prob = []                       # Esta funcion devuelve esta lista \"prob\", con los valores de la probabilidad\n",
        "    inter = 0                       # estimada al contar las veces que hay interferencia y dividir entre las veces que\n",
        "    for i in range(n):              # se ha reptido la observacion mientras aumenta el numero de iteraciones.\n",
        "        inter += interferencia()\n",
        "        prob.append(inter/(i+1))\n",
        "    return prob"
      ]
    },
    {
      "cell_type": "code",
      "execution_count": 10,
      "id": "8099a245",
      "metadata": {
        "id": "8099a245"
      },
      "outputs": [],
      "source": [
        "X = prob_inter(500)                # Asignamos valores a n y realizamos el experimento"
      ]
    },
    {
      "cell_type": "code",
      "execution_count": 11,
      "id": "c5a5a3c2",
      "metadata": {
        "colab": {
          "base_uri": "https://localhost:8080/",
          "height": 448
        },
        "id": "c5a5a3c2",
        "outputId": "d98286d3-af8f-4476-b88e-30324798b4a3"
      },
      "outputs": [
        {
          "output_type": "execute_result",
          "data": {
            "text/plain": [
              "[<matplotlib.lines.Line2D at 0x7fc85036fd00>]"
            ]
          },
          "metadata": {},
          "execution_count": 11
        },
        {
          "output_type": "display_data",
          "data": {
            "text/plain": [
              "<Figure size 640x480 with 1 Axes>"
            ],
            "image/png": "[encoded data removed]"
          },
          "metadata": {}
        }
      ],
      "source": [
        "plt.plot(X)                         # La gráfica muestra que la convergencia está garantizada con 500 iteraciones\n",
        "                                    # Sin embargo, diferentes ejecuciones darán resultados distintos"
      ]
    },
    {
      "cell_type": "code",
      "execution_count": 12,
      "id": "4ac4c689",
      "metadata": {
        "colab": {
          "base_uri": "https://localhost:8080/"
        },
        "id": "4ac4c689",
        "outputId": "d94af451-6254-4f39-e821-53a7cf129f47"
      },
      "outputs": [
        {
          "output_type": "stream",
          "name": "stdout",
          "text": [
            "0.34924229256725664 0.034940720304129404\n"
          ]
        }
      ],
      "source": [
        "print(np.mean(X), np.std(X))"
      ]
    },
    {
      "cell_type": "markdown",
      "id": "34727279",
      "metadata": {
        "id": "34727279"
      },
      "source": [
        "### 6. Repita el experimento $n$ veces\n",
        "\n",
        "Una forma de hacerlo es mediante el siguiente codigo."
      ]
    },
    {
      "cell_type": "code",
      "execution_count": 13,
      "id": "908f1884",
      "metadata": {
        "id": "908f1884"
      },
      "outputs": [],
      "source": [
        "def modelo(n):\n",
        "    lista=[]\n",
        "    for i in range(n):\n",
        "        s = prob_inter(500)\n",
        "        lista.append(np.mean(s))\n",
        "    return lista"
      ]
    },
    {
      "cell_type": "code",
      "execution_count": 14,
      "id": "34868564",
      "metadata": {
        "id": "34868564"
      },
      "outputs": [],
      "source": [
        "Y=modelo(120) #el número de experimentos es menor al número de simulaciones"
      ]
    },
    {
      "cell_type": "code",
      "execution_count": 15,
      "id": "8a95845e",
      "metadata": {
        "colab": {
          "base_uri": "https://localhost:8080/",
          "height": 430
        },
        "id": "8a95845e",
        "outputId": "f4f8dac5-2f73-4a61-f3ba-326d6c2df5b8"
      },
      "outputs": [
        {
          "output_type": "display_data",
          "data": {
            "text/plain": [
              "<Figure size 640x480 with 1 Axes>"
            ],
            "image/png": "[encoded data removed]"
          },
          "metadata": {}
        }
      ],
      "source": [
        "plt.hist(Y)\n",
        "plt.show()"
      ]
    },
    {
      "cell_type": "code",
      "execution_count": 16,
      "id": "e892a16c",
      "metadata": {
        "colab": {
          "base_uri": "https://localhost:8080/"
        },
        "id": "e892a16c",
        "outputId": "3fd29bd6-2f56-449b-c295-b144c63467ce"
      },
      "outputs": [
        {
          "output_type": "stream",
          "name": "stdout",
          "text": [
            "0.34694627545502005 0.03146235235202564\n"
          ]
        }
      ],
      "source": [
        "print(np.mean(Y), np.std(Y))"
      ]
    },
    {
      "cell_type": "markdown",
      "id": "e5dc2362",
      "metadata": {
        "id": "e5dc2362"
      },
      "source": [
        "### Paso 7. Hallamos el intervalo de confianza.\n",
        "\n",
        "$$\\bar{x}-z_{\\alpha/2} \\cdot \\frac{s}{\\sqrt{n}} < \\mu < \\bar{x}+z_{\\alpha/2}\\cdot \\frac{s}{\\sqrt{n}}$$"
      ]
    },
    {
      "cell_type": "code",
      "execution_count": 17,
      "id": "23d0b48e",
      "metadata": {
        "colab": {
          "base_uri": "https://localhost:8080/"
        },
        "id": "23d0b48e",
        "outputId": "6d715156-ddf3-4943-930d-4379269fb2f8"
      },
      "outputs": [
        {
          "output_type": "execute_result",
          "data": {
            "text/plain": [
              "0.34694627545502005"
            ]
          },
          "metadata": {},
          "execution_count": 17
        }
      ],
      "source": [
        "np.mean(Y)"
      ]
    },
    {
      "cell_type": "code",
      "execution_count": 18,
      "id": "b29c74e6",
      "metadata": {
        "colab": {
          "base_uri": "https://localhost:8080/"
        },
        "id": "b29c74e6",
        "outputId": "e17b595d-0e40-47ec-f3ae-7bb3e768d949"
      },
      "outputs": [
        {
          "output_type": "execute_result",
          "data": {
            "text/plain": [
              "(0.3382253563165425, 0.3556671945934976)"
            ]
          },
          "metadata": {},
          "execution_count": 18
        }
      ],
      "source": [
        "np.mean(Y) - 1.96*np.std(Y)/np.sqrt(50), np.mean(Y) + 1.96*np.std(Y)/np.sqrt(50)"
      ]
    },
    {
      "cell_type": "markdown",
      "source": [
        "Es conveniente estandarizar $\\bar X$ e incluir de manera formal la variable aleatoria normal estándar $Z$ donde\n",
        "$$Z=\\frac{\\bar X-\\mu}{\\sigma/\\sqrt{n}}$$\n",
        "Sabemos que $bajo\\ H_0$ es decir $\\mu=\\mu_0$, entonces $\\sqrt{n}(\\bar X - \\mu_0)/\\sigma$ tiene una distribución $n(x; 0,1)$ y por lo tanto la expresión\n",
        "$$P(-z_{\\alpha/2} < \\frac{\\bar x-\\mu_0}{\\sigma/\\sqrt{n}} < z_{\\alpha/2})=1-\\alpha$$\n",
        "se puede utilizar para escribir una región de no rechazo adecuada.\n"
      ],
      "metadata": {
        "id": "aUVKoTb5rgCo"
      },
      "id": "aUVKoTb5rgCo"
    },
    {
      "cell_type": "markdown",
      "source": [
        "La estimación del intervalo de confianza incluye el cálculo de límites dentro de los cuales es \"razonable\" que resida el parámetro en cuestión.\n",
        "La estimación del intervalo de confianza se basa en la variable aleatoria\n",
        "$$Z=\\frac{x-\\mu}{\\sigma/\\sqrt{n}}$$\n",
        "Resulta que la prueba de $H_0:\\mu=\\mu_0$ contra $H_1:\\mu\\neq\\mu_0$ a un nivel de significancia $α$ es equivalente a calcular un intervalo de confianza del $100(1-\\alpha)\\%$ sobre $\\mu$ y rechazar $H_0$, si $\\mu_0$ está fuera del intervalo de confianza.\n",
        "\\\n",
        "Si $\\mu_0$ está adentro del intervalo de confianza, no se rechaza la hipótesis.\n",
        "\\\n",
        "Recordar que con un valor observado $\\bar x$, no rechazar $H_0$ a un nivel de insignificancia $\\alpha$ implica que\n",
        "$$-z_{\\alpha/2} < \\frac{\\bar x-\\mu_0}{\\sigma/\\sqrt{n}} < z_{\\alpha/2}$$\n",
        "Que es equivalente a\n",
        "$$\\bar{x}-z_{\\alpha/2} \\cdot \\frac{\\sigma}{\\sqrt{n}} < \\mu < \\bar{x}+z_{\\alpha/2}\\cdot \\frac{\\sigma}{\\sqrt{n}}$$\n",
        "\\\n",
        "La equivalencia de la estimación del intervalo de confianza con la prueba de hippótesis se extiende a las diferencias entre dos medias varianzas, cocientes de varianzas, etc."
      ],
      "metadata": {
        "id": "xiPrhsbFk5q6"
      },
      "id": "xiPrhsbFk5q6"
    },
    {
      "cell_type": "markdown",
      "id": "112c0954",
      "metadata": {
        "id": "112c0954"
      },
      "source": [
        "### Para determinar el número de simulaciones"
      ]
    },
    {
      "cell_type": "markdown",
      "id": "0a1a63e7",
      "metadata": {
        "id": "0a1a63e7"
      },
      "source": [
        "$$ N > \\Bigg( \\frac{2 \\sigma z_{\\alpha/2}}{\\epsilon} \\Bigg) ^2 $$"
      ]
    },
    {
      "cell_type": "markdown",
      "source": [],
      "metadata": {
        "id": "eoHs1WWFv4DC"
      },
      "id": "eoHs1WWFv4DC"
    },
    {
      "cell_type": "code",
      "execution_count": 19,
      "id": "1478d745",
      "metadata": {
        "id": "1478d745"
      },
      "outputs": [],
      "source": [
        "N = (2*np.std(X)*1.96/0.01)**2"
      ]
    },
    {
      "cell_type": "code",
      "execution_count": 20,
      "id": "fa6ae0ce",
      "metadata": {
        "colab": {
          "base_uri": "https://localhost:8080/"
        },
        "id": "fa6ae0ce",
        "outputId": "4c8b5385-6cf2-40e5-fcb9-4642cc396594"
      },
      "outputs": [
        {
          "output_type": "stream",
          "name": "stdout",
          "text": [
            "187.6012991249109\n"
          ]
        }
      ],
      "source": [
        "print(N)"
      ]
    },
    {
      "cell_type": "markdown",
      "id": "a6d1c695",
      "metadata": {
        "id": "a6d1c695"
      },
      "source": [
        "### Podemos comparar con la **solución analítica** del problema.\n",
        "\n",
        "Para ello usamos el **teorema de resta de dos variables aleatorias normales**.\n",
        "\n",
        "Si $X$ y $Y$ son variables aleatorias independientes y normalmente distribuidas, es decir\\\n",
        "$$X\\sim N(\\mu_X,\\sigma_X)$$\n",
        "entonces la diferencia $X-Y$ también está normalmente distribuida.\n",
        "$$Z\\sim N(\\mu_X-\\mu_Y,\\sigma^2_X+\\sigma^2_Y)$$\n",
        "\\\n",
        "Tenemos:\\\n",
        "$$x_1\\sim N(1.5,0.04)$$\n",
        "$$x_2\\sim N(1.48,0.03)$$"
      ]
    },
    {
      "cell_type": "markdown",
      "source": [
        "Queremos saber la probabilidad de interferencia. Hay interferencia cuando el diámetro de la flecha es más grande que el cojinete, es decir: $$x_2>x_1$$\n",
        "$$x_2-x_1>0$$\n",
        "\n",
        "$x_2$ y $x_1$ son variables aleatorias independientes y normalmente distribuidas, su diferencia resulta:\n",
        "$$x_3\\sim N(\\mu_{x2}-\\mu_{x1},\\sigma^2_{x2}+\\sigma^2_{x1})$$\n",
        "\\\n",
        "$$\\mu_{x2}-\\mu_{x1}=1.48-1.50=-0.02=\\mu_3$$\n",
        "$$\\sqrt{\\sigma^2_{x1}+\\sigma^2_{x2}}=\\sqrt{0.03^2+0.04^2}=0.05=\\sigma_3$$\n",
        "\\\n",
        "$$x_3\\sim N(-0.02,0.05)$$\n",
        "$x_3$ es una variable aleatoria normal $z$ con media $-0.02$ y varianza $0.05^2$.\n",
        "\\\n",
        "Así\n",
        "$$P(interferencia)=P(x_2-x_1>0)=P(x_3>0)$$\n",
        "Hacemos la transformación en Z\n",
        "$$Z=\\frac{X-\\mu}{\\sigma}$$\n",
        "$$Z=\\frac{0-(-0.02)}{0.05}=0.04$$\n",
        "\\\n",
        "$$P(Z>0.4)=\\phi(0.4)$$\n",
        "El valor de $\\phi(0.4)$ lo sacamos de la tabla de áreas bajo la curva normal.\n",
        "Entonces\n",
        "$$P(x_3>0)=1-\\phi(0.4)$$\n",
        "$$1-0.6554=0.3446$$\n",
        "Es decir, el valor $\\phi(0.4)$ deja un área de $0.6554$ a la derecha, entonces a la izquierda deja un área de $0.3446$. En conclusión\n",
        "$$P(Interferencia)=0.3446=34.46\\%$$\n"
      ],
      "metadata": {
        "id": "zBE56h-WNpzp"
      },
      "id": "zBE56h-WNpzp"
    },
    {
      "cell_type": "code",
      "execution_count": 5,
      "id": "7284bee0",
      "metadata": {
        "colab": {
          "base_uri": "https://localhost:8080/"
        },
        "id": "7284bee0",
        "outputId": "490dc749-a03c-4ecb-9869-86bf636a731c"
      },
      "outputs": [
        {
          "output_type": "execute_result",
          "data": {
            "text/plain": [
              "0.3445782583896758"
            ]
          },
          "metadata": {},
          "execution_count": 5
        }
      ],
      "source": [
        "norm.cdf(-0.04, -0.02, 0.05)"
      ]
    },
    {
      "cell_type": "markdown",
      "source": [
        "La funcion norm.cdf devuelve el valor de la función acumulativa en el punto especificado, lo que representa la probabilidad de que una variable aleatoria normal sea menor o igual a ese punto.\n",
        "\\\n",
        "En este caso $x_3$ con media $-0.02$ y desviación estándar $0.05$ sea menor o igual a $-0.04$"
      ],
      "metadata": {
        "id": "vNydgjCicoSR"
      },
      "id": "vNydgjCicoSR"
    },
    {
      "cell_type": "code",
      "execution_count": 22,
      "id": "a1a842a2",
      "metadata": {
        "colab": {
          "base_uri": "https://localhost:8080/"
        },
        "id": "a1a842a2",
        "outputId": "7156ba31-6725-464b-9493-e9bffe3ae1aa"
      },
      "outputs": [
        {
          "output_type": "execute_result",
          "data": {
            "text/plain": [
              "-0.00236801706534423"
            ]
          },
          "metadata": {},
          "execution_count": 22
        }
      ],
      "source": [
        "norm.cdf(-0.04, -0.02, 0.05)-np.mean(Y) #Resta la probabilidades\n",
        "                                        #por norm.cdf - simulación."
      ]
    }
  ],
  "metadata": {
    "kernelspec": {
      "display_name": "Python 3 (ipykernel)",
      "language": "python",
      "name": "python3"
    },
    "language_info": {
      "codemirror_mode": {
        "name": "ipython",
        "version": 3
      },
      "file_extension": ".py",
      "mimetype": "text/x-python",
      "name": "python",
      "nbconvert_exporter": "python",
      "pygments_lexer": "ipython3",
      "version": "3.7.3"
    },
    "colab": {
      "provenance": []
    }
  },
  "nbformat": 4,
  "nbformat_minor": 5
}