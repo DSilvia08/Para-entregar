{
  "nbformat": 4,
  "nbformat_minor": 0,
  "metadata": {
    "colab": {
      "provenance": [],
      "authorship_tag": "ABX9TyNx0ZGIOXynrqUHdOZNgS7z",
      "include_colab_link": true
    },
    "kernelspec": {
      "name": "python3",
      "display_name": "Python 3"
    },
    "language_info": {
      "name": "python"
    }
  },
  "cells": [
    {
      "cell_type": "markdown",
      "metadata": {
        "id": "view-in-github",
        "colab_type": "text"
      },
      "source": [
        "<a href=\"https://colab.research.google.com/github/DSilvia08/Para-entregar/blob/main/Untitled4.ipynb\" target=\"_parent\"><img src=\"https://colab.research.google.com/assets/colab-badge.svg\" alt=\"Open In Colab\"/></a>"
      ]
    },
    {
      "cell_type": "code",
      "execution_count": null,
      "metadata": {
        "id": "gfkB67zYamRn"
      },
      "outputs": [],
      "source": [
        "print(\"Rachas observadas: \", c)\n",
        "print(\"media\", round(media,4))\n",
        "print(\"varianza\", round(varianza,4))\n",
        "print(\"Valor z en N(0,1)\", round(valor,2))\n",
        "print(\"Valor de Z_o\", round(Z,4))\n",
        "if round(valor*(-1),2)<Z and Z<round(valor,2):\n",
        "  print(round(valor*(-1),2),\"<\",Z,\"<\",round(valor,2))\n",
        "  print(\"H_o se acepta\")\n",
        "else:\n",
        "  print(\"H_o se rechaza\")"
      ]
    }
  ]
}