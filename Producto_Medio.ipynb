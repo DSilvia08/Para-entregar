{
  "nbformat": 4,
  "nbformat_minor": 0,
  "metadata": {
    "colab": {
      "provenance": [],
      "authorship_tag": "ABX9TyOUdyZhav5qyqxm40ETYdiq",
      "include_colab_link": true
    },
    "kernelspec": {
      "name": "python3",
      "display_name": "Python 3"
    },
    "language_info": {
      "name": "python"
    }
  },
  "cells": [
    {
      "cell_type": "markdown",
      "metadata": {
        "id": "view-in-github",
        "colab_type": "text"
      },
      "source": [
        "<a href=\"https://colab.research.google.com/github/DSilvia08/Para-entregar/blob/main/Producto_Medio.ipynb\" target=\"_parent\"><img src=\"https://colab.research.google.com/assets/colab-badge.svg\" alt=\"Open In Colab\"/></a>"
      ]
    },
    {
      "cell_type": "code",
      "execution_count": null,
      "metadata": {
        "id": "k6uQweVjABRc"
      },
      "outputs": [],
      "source": [
        "#Este programa es para la generación de \"números aleatorios\" con el Método de Producto Medio\n",
        "#con P igual a 3\n",
        "print(\"Método de Producto medio\")\n",
        "#En este método se usan dos semillas de 3 dígitos.\n",
        "x_n1=int(input(\"Ingrese un número de 3 dígitos: \"))#primera semilla\n",
        "x_n=int(input(\"Ingrese otro número de 3 dígitos: \")) #segunda semilla\n",
        "r=int(input(\"Ingrese el rango de datos: \")) #numero de datos que se generarán\n",
        "\n",
        "print(\"{:<8} {:<10} {:<10} {:<8} \".format(\"n\", \"x_n\", \"x_n+1\", \"N\")) #Encabezado de la tabla\n",
        "\n",
        "for n in range(0,r):\n",
        "  K= x_n * x_n1 #Multiplicamos ambas semillas entre sí\n",
        "  D = [int(x) for x in str(K)] #cada dígito lo almacenamos en una lista\n",
        "  b=[0]\n",
        "  if len(D)%2==0: #Si la cantidad de datos es par\n",
        "    S=b+D #agrega un cero al inicio de la lista\n",
        "    Z=S[2:5] #toma los 3 dígitos de en medio\n",
        "    s = ''.join(str(x) for x in Z) #lo junta en una cadena\n",
        "    N=int(s) #lo convierte a un número entero\n",
        "    print(\"{:<8} {:<10} {:<10} {:<8}\".format(n, x_n, x_n1, N))\n",
        "    x_n1=x_n #la primera semilla se vuelve la primera\n",
        "    x_n=N #el nuevo dígito ahora es la segunda semilla\n",
        "  else:\n",
        "    Z=D[1:4] #si la cantidad de datos es IMPAR\n",
        "    s = ''.join(str(x) for x in Z)\n",
        "    N=int(s)\n",
        "    print(\"{:<8} {:<10} {:<10} {:<8}\".format(n, x_n, x_n1, N))\n",
        "    x_n1=x_n\n",
        "    x_n=N\n"
      ]
    }
  ]
}