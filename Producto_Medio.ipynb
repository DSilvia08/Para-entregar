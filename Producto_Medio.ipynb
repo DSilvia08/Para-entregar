{
  "nbformat": 4,
  "nbformat_minor": 0,
  "metadata": {
    "colab": {
      "provenance": [],
      "authorship_tag": "ABX9TyP/nmgzo8F2NsDMo7dpNTjd"
    },
    "kernelspec": {
      "name": "python3",
      "display_name": "Python 3"
    },
    "language_info": {
      "name": "python"
    }
  },
  "cells": [
    {
      "cell_type": "code",
      "source": [
        "import sys\n",
        "print(sys.version)"
      ],
      "metadata": {
        "colab": {
          "base_uri": "https://localhost:8080/"
        },
        "id": "72B4swgTV1Ok",
        "outputId": "92e91f4a-2de4-4b13-c1c2-a1e13b770f94"
      },
      "execution_count": 1,
      "outputs": [
        {
          "output_type": "stream",
          "name": "stdout",
          "text": [
            "3.10.12 (main, Nov 20 2023, 15:14:05) [GCC 11.4.0]\n"
          ]
        }
      ]
    },
    {
      "cell_type": "markdown",
      "source": [
        "3.10.12 (main, Nov 20 2023, 15:14:05) [GCC 11.4.0]\n",
        "#Producto medio\n",
        "1. Se selecciona 2 semillas $x_n, x_{n-1}$ cadauno de P dígitos\n",
        "2. Multiplicamos $x_n$ y $x_{n-1}$\n",
        "3. Del producto, tomamos P dígitos centrales y les llamamos $x_{n+1}$"
      ],
      "metadata": {
        "id": "d6nWTYDqV60p"
      }
    },
    {
      "cell_type": "code",
      "source": [
        "def PorductoMedio(x_n,x_n1,r):  #Este programa es para la generación de \"números aleatorios\" con el Método de Producto Medio\n",
        "                                #con P igual a 3\n",
        "  for n in range(0,r):\n",
        "    K= x_n * x_n1 #Multiplicamos ambas semillas entre sí\n",
        "    D = [int(x) for x in str(K)] #cada dígito lo almacenamos en una lista\n",
        "    b=[0]\n",
        "    if len(D)%2==0: #Si la cantidad de datos es par\n",
        "      S=b+D #agrega un cero al inicio de la lista\n",
        "      Z=S[2:5] #toma los 3 dígitos de en medio\n",
        "      s = ''.join(str(x) for x in Z) #lo junta en una cadena\n",
        "      N=int(s) #lo convierte a un número entero\n",
        "      print(\"{:<8} {:<10} {:<10} {:<8}\".format(n, x_n, x_n1, N)) #datos para la tabla\n",
        "      x_n1=x_n #la primera semilla se vuelve la primera\n",
        "      x_n=N #el nuevo dígito ahora es la segunda\n",
        "    else:\n",
        "      Z=D[1:4] #si la cantidad de datos es IMPAR\n",
        "      s = ''.join(str(x) for x in Z)\n",
        "      N=int(s)\n",
        "      print(\"{:<8} {:<10} {:<10} {:<8}\".format(n, x_n, x_n1, N))\n",
        "      x_n1=x_n\n",
        "      x_n=N"
      ],
      "metadata": {
        "id": "IUfgwOqzWda4"
      },
      "execution_count": 2,
      "outputs": []
    },
    {
      "cell_type": "code",
      "source": [
        "print(\"{:<8} {:<10} {:<10} {:<8} \".format(\"n\", \"x_n\", \"x_n+1\", \"N\")) #Encabezado de la tabla\n",
        "PorductoMedio(123,456,10) #mandamos a llamar la función\n",
        "#def PorductoMedio(x_n,x_n1,r)\n",
        "#x_n,x_n1 semillas de 3 dígitos\n",
        "#r= número de datos que se generarán"
      ],
      "metadata": {
        "colab": {
          "base_uri": "https://localhost:8080/"
        },
        "id": "HHG_RgNkXQpI",
        "outputId": "abd168a8-fab9-4854-d857-72e9fa259da3"
      },
      "execution_count": 3,
      "outputs": [
        {
          "output_type": "stream",
          "name": "stdout",
          "text": [
            "n        x_n        x_n+1      N        \n",
            "0        123        456        608     \n",
            "1        608        123        478     \n",
            "2        478        608        906     \n",
            "3        906        478        330     \n",
            "4        330        906        989     \n",
            "5        989        330        263     \n",
            "6        263        989        601     \n",
            "7        601        263        580     \n",
            "8        580        601        485     \n",
            "9        485        580        813     \n"
          ]
        }
      ]
    }
  ]
}