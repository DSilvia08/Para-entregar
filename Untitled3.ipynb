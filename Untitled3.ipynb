{
  "nbformat": 4,
  "nbformat_minor": 0,
  "metadata": {
    "colab": {
      "provenance": [],
      "authorship_tag": "ABX9TyOp8O+csuYeZ8AMEGUZ9fm/",
      "include_colab_link": true
    },
    "kernelspec": {
      "name": "python3",
      "display_name": "Python 3"
    },
    "language_info": {
      "name": "python"
    }
  },
  "cells": [
    {
      "cell_type": "markdown",
      "metadata": {
        "id": "view-in-github",
        "colab_type": "text"
      },
      "source": [
        "<a href=\"https://colab.research.google.com/github/DSilvia08/Para-entregar/blob/main/Untitled3.ipynb\" target=\"_parent\"><img src=\"https://colab.research.google.com/assets/colab-badge.svg\" alt=\"Open In Colab\"/></a>"
      ]
    },
    {
      "cell_type": "code",
      "execution_count": 1,
      "metadata": {
        "id": "-8ZuOq_JNYSy",
        "colab": {
          "base_uri": "https://localhost:8080/"
        },
        "outputId": "e2b3949f-2961-440c-e8da-0a24216edbc3"
      },
      "outputs": [
        {
          "output_type": "stream",
          "name": "stdout",
          "text": [
            "Prueba de Corridas\n"
          ]
        }
      ],
      "source": [
        "#Del ejercicio 2 Problema 1 Realice una prueba de corridas con un nivel\n",
        "#de aceptación del 95 %\n",
        "L=[0.048, 0.591, 0.478, 0.166, 0.932, 0.926, 0.007, 0.551, 0.362, 0.533, 0.368,\n",
        "   0.437, 0.178, 0.411, 0.545, 0.787, 0.594, 0.086, 0.951, 0.772,\n",
        "   0.298, 0.199, 0.157, 0.401, 0.631]\n",
        "print(\"Prueba de Corridas\") #Es una prueba de independencia\n",
        "S=[]\n",
        "a=1\n",
        "b=0\n",
        "k=len(L)\n",
        "#Paso 1 Determinar una secuencias de unos y ceros\n",
        "while (a<k and b<=(k-1)):\n",
        "  u=L[a]-L[b]\n",
        "  if u<=0:\n",
        "    S.append(0) #se agrega un 0\n",
        "    a+=1\n",
        "    b+=1\n",
        "  else:\n",
        "    S.append(1) #se agrega 1 en caso contrario\n",
        "    a+=1\n",
        "    b+=1"
      ]
    },
    {
      "cell_type": "code",
      "source": [
        "#Paso 2 Hallar el número de corridas observadas\n",
        "c=0\n",
        "if S[0]==1:\n",
        "  c+=1\n",
        "else:\n",
        "  c+=1\n",
        "for n in S:\n",
        "  if S[n+1] != S[n]:\n",
        "    c+=1\n",
        "  else:\n",
        "    c+=0\n",
        "c+=1 #se suma 1 más porque el ciclo cuenta n-1 rachas\n",
        "j=[\"----\"] #como el conteo de rachas comienza con el segundo dato,\n",
        "#en la primera fila le agreagré estas lineas\n",
        "S=j+S # en la primera fila le agreagré estas lineas"
      ],
      "metadata": {
        "id": "tSLUbYOANiJP"
      },
      "execution_count": 2,
      "outputs": []
    },
    {
      "cell_type": "code",
      "source": [
        "#Tabla\n",
        "!pip install prettytable\n",
        "from prettytable import PrettyTable\n",
        "myTable = PrettyTable([\"n\",\"X_i\",\"i_rachas\"])#encabezado de la tabla\n",
        "for x in range(k):\n",
        "  myTable.add_row([x,L[x],S[x]])#datos\n",
        "print(myTable)\n",
        "print(\"\")\n",
        "#Hipótesis\n",
        "print(\"H_o = Los números de la muestra son independientes\")\n",
        "print(\"H_a = Los números de la muestra no son independientes\")"
      ],
      "metadata": {
        "id": "X-PCk2RuNq2y",
        "colab": {
          "base_uri": "https://localhost:8080/"
        },
        "outputId": "e984a53e-4fe2-4dda-eb98-0709ca9ef95a"
      },
      "execution_count": 3,
      "outputs": [
        {
          "output_type": "stream",
          "name": "stdout",
          "text": [
            "Requirement already satisfied: prettytable in /usr/local/lib/python3.10/dist-packages (3.10.0)\n",
            "Requirement already satisfied: wcwidth in /usr/local/lib/python3.10/dist-packages (from prettytable) (0.2.13)\n",
            "+----+-------+----------+\n",
            "| n  |  X_i  | i_rachas |\n",
            "+----+-------+----------+\n",
            "| 0  | 0.048 |   ----   |\n",
            "| 1  | 0.591 |    1     |\n",
            "| 2  | 0.478 |    0     |\n",
            "| 3  | 0.166 |    0     |\n",
            "| 4  | 0.932 |    1     |\n",
            "| 5  | 0.926 |    0     |\n",
            "| 6  | 0.007 |    0     |\n",
            "| 7  | 0.551 |    1     |\n",
            "| 8  | 0.362 |    0     |\n",
            "| 9  | 0.533 |    1     |\n",
            "| 10 | 0.368 |    0     |\n",
            "| 11 | 0.437 |    1     |\n",
            "| 12 | 0.178 |    0     |\n",
            "| 13 | 0.411 |    1     |\n",
            "| 14 | 0.545 |    1     |\n",
            "| 15 | 0.787 |    1     |\n",
            "| 16 | 0.594 |    0     |\n",
            "| 17 | 0.086 |    0     |\n",
            "| 18 | 0.951 |    1     |\n",
            "| 19 | 0.772 |    0     |\n",
            "| 20 | 0.298 |    0     |\n",
            "| 21 | 0.199 |    0     |\n",
            "| 22 | 0.157 |    0     |\n",
            "| 23 | 0.401 |    1     |\n",
            "| 24 | 0.631 |    1     |\n",
            "+----+-------+----------+\n",
            "\n",
            "H_o = Los números de la muestra son independientes\n",
            "H_a = Los números de la muestra no son independientes\n"
          ]
        }
      ]
    },
    {
      "cell_type": "code",
      "source": [
        "#Caculamos la media, varianza y Z\n",
        "media=((2*k)-1)/3\n",
        "varianza=((16*k)-29)/90\n",
        "from math import sqrt\n",
        "Z=(c-media)/sqrt(varianza)\n",
        "#como C_0...N(media, distribución estandar) es equivalente a Z_0...N(0,1)\n",
        "m=float(input(\"Nivel de aceptación: \")) #nivel de aceptación\n",
        "from scipy.stats import norm\n",
        "n_sd=(1-m)/2 #nivel de significancia entre 2\n",
        "N=1-n_sd #probabilidad acumulada\n",
        "valor=norm.ppf(N)#la funcion norm.ppf sirve para calcular el valor Z"
      ],
      "metadata": {
        "id": "b7e8eNGFNurk",
        "colab": {
          "base_uri": "https://localhost:8080/"
        },
        "outputId": "4673ec44-b6c5-4e35-a830-2e6064814ae7"
      },
      "execution_count": 4,
      "outputs": [
        {
          "name": "stdout",
          "output_type": "stream",
          "text": [
            "Nivel de aceptación: 0.95\n"
          ]
        }
      ]
    },
    {
      "cell_type": "code",
      "source": [
        "#correspondiente a una probabilidad acumulada\n",
        "print(\"Rachas observadas: \", c)\n",
        "print(\"media\", round(media,4))\n",
        "print(\"varianza\", round(varianza,4))\n",
        "print(\"Valor z en N(0,1)\", round(valor,2))\n",
        "print(\"Valor de Z_o\", round(Z,4))\n",
        "if valor*(-1)<Z and Z<valor:\n",
        "  print(round(valor*(-1),2),\"<\",Z,\"<\",round(valor,2))\n",
        "  print(\"H_o se acepta\")\n",
        "else:\n",
        "  print(\"H_o se rechaza\")"
      ],
      "metadata": {
        "id": "uQ0aXUV4NyLg",
        "colab": {
          "base_uri": "https://localhost:8080/"
        },
        "outputId": "766a7d4b-f9f4-452f-fc0a-c9bda0ff58a2"
      },
      "execution_count": 6,
      "outputs": [
        {
          "output_type": "stream",
          "name": "stdout",
          "text": [
            "Rachas observadas:  15\n",
            "media 16.3333\n",
            "varianza 4.1222\n",
            "Valor z en N(0,1) 1.96\n",
            "Valor de Z_o -0.6567\n",
            "-1.96 < -0.6567091033031179 < 1.96\n",
            "H_o se acepta\n"
          ]
        }
      ]
    }
  ]
}