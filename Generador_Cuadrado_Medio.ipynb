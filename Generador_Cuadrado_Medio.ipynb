{
  "nbformat": 4,
  "nbformat_minor": 0,
  "metadata": {
    "colab": {
      "provenance": [],
      "authorship_tag": "ABX9TyOisdzXm9RslzZMTv+KAFKh"
    },
    "kernelspec": {
      "name": "python3",
      "display_name": "Python 3"
    },
    "language_info": {
      "name": "python"
    }
  },
  "cells": [
    {
      "cell_type": "code",
      "source": [
        "import sys\n",
        "print(sys.version)"
      ],
      "metadata": {
        "colab": {
          "base_uri": "https://localhost:8080/"
        },
        "id": "8pr75A6FYTqs",
        "outputId": "3972b6d1-937f-455f-dbd2-5a974a105a04"
      },
      "execution_count": 2,
      "outputs": [
        {
          "output_type": "stream",
          "name": "stdout",
          "text": [
            "3.10.12 (main, Nov 20 2023, 15:14:05) [GCC 11.4.0]\n"
          ]
        }
      ]
    },
    {
      "cell_type": "markdown",
      "source": [
        "3.10.12 (main, Nov 20 2023, 15:14:05) [GCC 11.4.0]\n",
        "#Generador Cuadrado Medio\n"
      ],
      "metadata": {
        "id": "n41bFNEwYfPI"
      }
    },
    {
      "cell_type": "code",
      "source": [
        "def CuadradoMedio(n, r):\n",
        "  P=n**2 #Elevamos al cuadrado\n",
        "  L=[int(x) for x in str(P)] #cada dígito lo almacenamos en una lista\n",
        "\n",
        "  for i in range(0,r):\n",
        "    if len(L)%2==0: #si la cantidad de datos es par\n",
        "      D=L[1:5] #tomamos los 4 números de en medio\n",
        "      s = ''.join(str(x) for x in D) #como cada dato de la lista son de tipo str\n",
        "                                     #lo junta en una sola variable como una palabra\n",
        "      print(\"{:<8} {:<10} {:<10} {:<8}\".format(i, n, P, s)) #datos de la tabla\n",
        "      n=int(s) #convierte la cadena en un número entero\n",
        "      P=n**2 #se eleva al cuadrado y se inicia de nuevo con el método\n",
        "      L=[int(x) for x in str(P)]\n",
        "    else: #si es impar\n",
        "      c=[0]\n",
        "      L=c+L #agrega un cero al incio de la lista\n",
        "      D=L[2:6] #toma los 4 dígitos de en medio\n",
        "      s = ''.join(str(x) for x in D)\n",
        "      print(\"{:<8} {:<10} {:<10} {:<8}\".format(i, n, P, s))\n",
        "      n=int(s)\n",
        "      P=n**2\n",
        "      L=[int(x) for x in str(P)]"
      ],
      "metadata": {
        "id": "97Vb8a2BYxjZ"
      },
      "execution_count": 3,
      "outputs": []
    },
    {
      "cell_type": "code",
      "source": [
        "print(\"{:<8} {:<10} {:<10} {:<8} \".format(\"n\", \"x_n\", \"x^2\", \"x_n+1\") ) #Encabezado de la tabla\n",
        "CuadradoMedio(2024, 50) #Mandamos a llamar a la funcipon\n",
        "#CuadradoMedio(n, r)\n",
        "#n número de 4 dígitos entero\n",
        "#r Determina el rango que queremos de datos"
      ],
      "metadata": {
        "colab": {
          "base_uri": "https://localhost:8080/"
        },
        "id": "KTIUjHDBZO9g",
        "outputId": "db8d049e-c271-485a-b01b-99a372aa6b03"
      },
      "execution_count": 4,
      "outputs": [
        {
          "output_type": "stream",
          "name": "stdout",
          "text": [
            "n        x_n        x^2        x_n+1    \n",
            "0        2024       4096576    0965    \n",
            "1        965        931225     3122    \n",
            "2        3122       9746884    7468    \n",
            "3        7468       55771024   5771    \n",
            "4        5771       33304441   3304    \n",
            "5        3304       10916416   0916    \n",
            "6        916        839056     3905    \n",
            "7        3905       15249025   5249    \n",
            "8        5249       27552001   7552    \n",
            "9        7552       57032704   7032    \n",
            "10       7032       49449024   9449    \n",
            "11       9449       89283601   9283    \n",
            "12       9283       86174089   6174    \n",
            "13       6174       38118276   8118    \n",
            "14       8118       65901924   5901    \n",
            "15       5901       34821801   4821    \n",
            "16       4821       23242041   3242    \n",
            "17       3242       10510564   0510    \n",
            "18       510        260100     6010    \n",
            "19       6010       36120100   6120    \n",
            "20       6120       37454400   7454    \n",
            "21       7454       55562116   5562    \n",
            "22       5562       30935844   0935    \n",
            "23       935        874225     7422    \n",
            "24       7422       55086084   5086    \n",
            "25       5086       25867396   5867    \n",
            "26       5867       34421689   4421    \n",
            "27       4421       19545241   9545    \n",
            "28       9545       91107025   1107    \n",
            "29       1107       1225449    2254    \n",
            "30       2254       5080516    0805    \n",
            "31       805        648025     4802    \n",
            "32       4802       23059204   3059    \n",
            "33       3059       9357481    3574    \n",
            "34       3574       12773476   2773    \n",
            "35       2773       7689529    6895    \n",
            "36       6895       47541025   7541    \n",
            "37       7541       56866681   6866    \n",
            "38       6866       47141956   7141    \n",
            "39       7141       50993881   0993    \n",
            "40       993        986049     8604    \n",
            "41       8604       74028816   4028    \n",
            "42       4028       16224784   6224    \n",
            "43       6224       38738176   8738    \n",
            "44       8738       76352644   6352    \n",
            "45       6352       40347904   0347    \n",
            "46       347        120409     2040    \n",
            "47       2040       4161600    1616    \n",
            "48       1616       2611456    6114    \n",
            "49       6114       37380996   7380    \n"
          ]
        }
      ]
    }
  ]
}