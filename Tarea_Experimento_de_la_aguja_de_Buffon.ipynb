{
  "nbformat": 4,
  "nbformat_minor": 0,
  "metadata": {
    "colab": {
      "provenance": [],
      "authorship_tag": "ABX9TyMLQmBYiYtd4sZ0XKt8AwtP"
    },
    "kernelspec": {
      "name": "python3",
      "display_name": "Python 3"
    },
    "language_info": {
      "name": "python"
    }
  },
  "cells": [
    {
      "cell_type": "code",
      "source": [
        "import sys\n",
        "print(sys.version)"
      ],
      "metadata": {
        "colab": {
          "base_uri": "https://localhost:8080/"
        },
        "id": "n5zzLmSmhjoS",
        "outputId": "c3e8d9f1-54e6-4ebc-c052-509cc2a7a2ba"
      },
      "execution_count": 58,
      "outputs": [
        {
          "output_type": "stream",
          "name": "stdout",
          "text": [
            "3.10.12 (main, Nov 20 2023, 15:14:05) [GCC 11.4.0]\n"
          ]
        }
      ]
    },
    {
      "cell_type": "markdown",
      "source": [
        "3.10.12 (main, Nov 20 2023, 15:14:05) [GCC 11.4.0]\n",
        "#Experimento de la aguja de Buffon"
      ],
      "metadata": {
        "id": "08CjWmHuAymy"
      }
    },
    {
      "cell_type": "markdown",
      "source": [
        "Es un experimento para aproximar $\\pi$. \\\n",
        "Se trata de lanzar una aguja sobre una superficie horizontal en las que están trazadas unas lineas paralelas equidistantes (separadas a la misma distancia d).\\\n",
        "Sea $x$ la distancia entre el centro de la aguja a la línea más cercana\n",
        "$$x\\in [0,\\frac{d}{2}]$$\n",
        "Sea $\\theta$ el ángulo entre las líneas\n",
        "$$\\theta \\in [0, \\frac{\\pi}{2}]$$\n",
        "Así la condición a cumplir es\n",
        "$$x\\leq \\frac{1}{2}sen(\\theta)$$\n",
        "$$Probabilidad(aguja\\ cruce\\ o\\ toque)=\\frac{Áreabajo la curva}{Área de la red}$$\n",
        "\\\n",
        "$$=\\frac{\\int_0^{\\frac{\\pi}{2}}\\frac{L}{2}sen\\theta}{\\frac{\\pi}{2}\\frac{d}{2}}$$\n",
        "\\\n",
        "$$=\\frac{2d}{\\pi L}$$\n",
        "Para este experimento\n",
        "$$L=d$$\n",
        "es decir, la longitud de las agujas es la misma que la distancia que hay entre las líneas\n",
        "$$\\frac{n}{N}\\approx \\frac{2}{\\pi}$$\n",
        "\\\n",
        "$$\\pi\\approx \\frac{2N}{n}$$"
      ],
      "metadata": {
        "id": "qTWzbU6TiX-a"
      }
    },
    {
      "cell_type": "markdown",
      "source": [
        "## Analíticamente\n",
        "Tenemos un estimador\n",
        "$$\\bar\\pi\\approx \\frac{2N}{n}$$\n",
        "Consideramos la variable\n",
        "$$X_i\\begin{cases}\n",
        "1 \\ &\\text{si la aguja toca una linea } \\ (p) \\\\\n",
        "0 \\ &\\text{otro caso } \\ (1-p) \\\\\n",
        "\\end{cases}$$"
      ],
      "metadata": {
        "id": "yASW-Y9zag-5"
      }
    },
    {
      "cell_type": "markdown",
      "source": [
        "Por la ley de los grandes números, consideramos\n",
        "$$z= \\frac{2N}{X_1+X_2+...+X_N}$$\n",
        "Y calculamos el valor esperado y la esperanza\n",
        "1. $E[X_i]=Np$\n",
        "la inversa de una var. binomial no tiene una forma analítica simple. Así que podemos usar una aproximación de segundo orden mediante expansión de Taylor para n al rededor de su valor esperado.\n",
        "$$\\frac{1}{n}\\approx \\frac{1}{Np}+\\frac{(n-Np)}{(Np)^2}$$\n",
        "$$E[z]=E[\\frac{1}{Np}+\\frac{(n-Np)}{(Np)^2}]=E[\\frac{1}{Np}]+E[\\frac{(n-Np)}{(Np)^2}]$$\n",
        "$E[n-Np]=0$\n",
        "$$E[z]=\\frac{2N}{Np}=\\frac{2}{p}$$\n",
        "\n",
        "2. $V[X_i]=Np(1-p)$\n",
        "$$Var[z]=Var[\\frac{1}{Np}+\\frac{(n-Np)}{(Np)^2}]$$\n",
        "$$=Var[\\frac{1}{Np}]+Var[\\frac{(n-Np)}{(Np)^2}]$$\n",
        "$Var[\\frac{(2N)}{(Np)}]=0$ porque es constante, entonces\n",
        "$$=(\\frac{(2N)}{(Np)^2})^2*Var[X_i]$$\n",
        "$$Var[z]=\\frac{4(1-p)}{Np^3}$$"
      ],
      "metadata": {
        "id": "LxIN60BNZz33"
      }
    },
    {
      "cell_type": "markdown",
      "source": [
        "Ahora podemos usar la desigualdad Chebyshev\n",
        "$$P(|z_N-\\pi|\\geq ϵ)\\leq \\frac{V[z_N]}{ϵ^2}$$\n",
        "\\\n",
        "$$P(|z_N-\\pi|\\geq ϵ)\\leq \\frac{4(1-p)}{Np^3*ϵ^2}$$\n",
        "Luego, dado un valor de $ϵ$ podemos calcular el valor de N\n",
        "$$N=\\frac{4(1-p)}{p^3\\epsilon^2*P(|z_N-\\pi|\\geq ϵ)}$$"
      ],
      "metadata": {
        "id": "8BeamRdybE_3"
      }
    },
    {
      "cell_type": "markdown",
      "source": [
        "##Ejemplo\n",
        "¿Cuántas agujas hay que lanzar para que la probilidad de cometer un error mayor o igual a 0.1 sea menor que 0.01?\n",
        "###1. Supongamos que sabemos $p=\\frac{2}{\\pi}$\n",
        "$ϵ=0.1$ \\\n",
        "$P(|z_N-\\pi|\\geq ϵ)=0.01$\n",
        "$$N=\\frac{4(1-\\frac{2}{\\pi})}{(\\frac{2}{\\pi})^3* 0,1^2*0.01}$$\n",
        "\\\n",
        "$$N\\approx 56,335 $$\n",
        "###2. Si no conocemos p\n",
        "Sí sabemos $0<p<1$. Veamos cómo es $p(1-p)$"
      ],
      "metadata": {
        "id": "cdQHReTGbJ97"
      }
    },
    {
      "cell_type": "markdown",
      "source": [
        "Calcular puntos extremos utilizando el criterio de la primera derivada \\\n",
        "Si\n",
        "$$f(x)=x(1-x)$$\n",
        "$f^{´}=1-2x$ \\\n",
        "Encontramos los puntos críticos \\\n",
        "$f^{´}=0$\n",
        "$$1-2x=0$$\n",
        "$$x=\\frac{1}{2}$$\n",
        "\n",
        "Para $f^{´}>0$\n",
        "$$1-2x>0$$\n",
        "$$x<\\frac{1}{2}$$\n",
        "Para $f^{´}<0$\n",
        "$$x>\\frac{1}{2}$$\n",
        "Combinamos los intervalos\n",
        "$$-∞<x<\\frac{1}{2},\\ x=\\frac{1}{2}, \\frac{1}{2}<x<∞$$\n",
        "Resumen del comportamiento de los intervalos \\\n",
        "Creciente $-∞<x<\\frac{1}{2}$ \\\n",
        "Decreciente $\\frac{1}{2}<x<∞$ \\\n",
        "Sustituimos en $x(1-p)$\n",
        "$$\\frac{1}{2}(1-\\frac{1}{2})=\\frac{1}{4}$$\n",
        "$$Máximo (\\frac{1}{2},\\frac{1}{4})$$"
      ],
      "metadata": {
        "id": "fHgk1EojcZ3y"
      }
    },
    {
      "cell_type": "code",
      "source": [
        "#Importamos las librerías a ocupar\n",
        "import matplotlib.pyplot as plt\n",
        "import numpy as np\n",
        "import random as rnd\n",
        "from math import sin\n",
        "from scipy import stats"
      ],
      "metadata": {
        "id": "VektQhXDcaIo"
      },
      "execution_count": 59,
      "outputs": []
    },
    {
      "cell_type": "code",
      "source": [
        "x=np.linspace(0,1,100) #rango en x de [0,1]\n",
        "y=x*(1-x) #función f(x)\n",
        "x_c=0.5 #punto crítico\n",
        "\n",
        "y_c=0.25 #valor de la función en el punto crítico\n",
        "plt.figure(figsize=(6,5)) #Crear figura\n",
        "plt.plot(x,y) #Graficar\n",
        "plt.axvline(x_c,color=\"pink\", linestyle=\"--\")\n",
        "plt.axhline(y_c,color=\"pink\", linestyle=\"--\")\n",
        "plt.scatter(x_c,y_c,color=\"red\") #Graficar punto crítico\n",
        "plt.show()"
      ],
      "metadata": {
        "colab": {
          "base_uri": "https://localhost:8080/",
          "height": 445
        },
        "id": "MB4kmWWme-MT",
        "outputId": "63cc60aa-f265-4d1e-b495-998597a832ff"
      },
      "execution_count": 3,
      "outputs": [
        {
          "output_type": "display_data",
          "data": {
            "text/plain": [
              "<Figure size 600x500 with 1 Axes>"
            ],
            "image/png": "[encoded data removed]"
          },
          "metadata": {}
        }
      ]
    },
    {
      "cell_type": "markdown",
      "source": [
        "Esto significa que\n",
        "$$p(1-p)\\leq \\frac{1}{4}$$\n",
        "Volvemos a calcular\n",
        "$$N\\leq\\frac{4(1-\\frac{1}{4})}{(\\frac{1}{4})^3* 0,1^2*0.01}$$\n",
        "$$N\\leq 1,920,000$$\n",
        "\\\n",
        "La primera $N$ que se obtuvo es una igualdad y la segunda una desigualdad, por eso está tan distanciadas ambas cantidades."
      ],
      "metadata": {
        "id": "fobMp42Nlt41"
      }
    },
    {
      "cell_type": "markdown",
      "source": [
        "## Simulación\n",
        "Tenemos la función\n",
        "$$x=\\frac{1}{2}sen(\\theta)$$"
      ],
      "metadata": {
        "id": "X8s_p6yIl11V"
      }
    },
    {
      "cell_type": "code",
      "source": [
        "x=np.linspace(0,np.pi/2,100) #rango en x de [0,pi/2]\n",
        "y=1/2*np.sin(x) #función\n",
        "theta=1/2*np.pi*rnd.uniform(0,1) #Genera un valor aleatorio entre 0 y pi/2\n",
        "u=rnd.uniform(0,1/2) #Genera un valor aleatorio entre 0 y 1/2\n",
        "\n",
        "plt.figure(figsize=(6,5)) #Crear figura\n",
        "plt.plot(x,y) #Graficar\n",
        "plt.scatter(theta,u,color=\"red\") #Grafica un punto, ya sea fuera o dentro de lafunción\n",
        "plt.show()"
      ],
      "metadata": {
        "colab": {
          "base_uri": "https://localhost:8080/",
          "height": 445
        },
        "id": "BlsKEPOdw3fL",
        "outputId": "06451b42-cfaa-4cf0-a47e-39e37429000c"
      },
      "execution_count": 4,
      "outputs": [
        {
          "output_type": "display_data",
          "data": {
            "text/plain": [
              "<Figure size 600x500 with 1 Axes>"
            ],
            "image/png": "[encoded data removed]"
          },
          "metadata": {}
        }
      ]
    },
    {
      "cell_type": "code",
      "source": [
        "def estimación (n): #Regresa una lista de probabilidades de pi\n",
        " cruces=0 #contador para el número de cruces\n",
        " lista1=[]\n",
        " x_1=[] #Valores para x,y en caso de cruce\n",
        " y_1=[]\n",
        " x_2=[] #Valores para x,y en caso contrario\n",
        " y_2=[]\n",
        " for i in range(n):\n",
        "  x=rnd.uniform(0,1/2) #Genera un valor aleatorio entre 0 y 1/2\n",
        "  theta=1/2*np.pi*rnd.uniform(0,1) #Genera un valor aleatorio entre 0 y pi/2\n",
        "  if x<=1/2*sin(theta): #condición de cruce\n",
        "   cruces+=1 #éxito\n",
        "   x_1.append(theta)\n",
        "   y_1.append(x)\n",
        "  else:\n",
        "    x_2.append(theta)\n",
        "    y_2.append(x)\n",
        "  prob=2*i/(cruces+1) #probabilidad de pi\n",
        "  lista1.append(prob)\n",
        " return lista1,x_1,y_1,x_2,y_2 #también regresa los cruces y casos contrarios"
      ],
      "metadata": {
        "id": "9GGtpemwwIoC"
      },
      "execution_count": 43,
      "outputs": []
    },
    {
      "cell_type": "code",
      "source": [
        "S,x_1,y_1,x_2,y_2=estimación (2000) #Define la lista de prob como S"
      ],
      "metadata": {
        "id": "ebXfUWe3pIV1"
      },
      "execution_count": 44,
      "outputs": []
    },
    {
      "cell_type": "code",
      "source": [
        "x=np.linspace(0,np.pi/2,2000) #Rango del eje de las x\n",
        "plt.plot(x,1/2*np.sin(x), color=\"black\")\n",
        "plt.scatter(x_1,y_1,color=\"blue\") #Éxitos\n",
        "plt.scatter(x_2,y_2,color=\"r\")\n",
        "plt.show()"
      ],
      "metadata": {
        "id": "j9m_lRqKygWv"
      },
      "execution_count": null,
      "outputs": []
    },
    {
      "cell_type": "code",
      "source": [
        "media=np.mean(S) #Calcula la media\n",
        "print(media)"
      ],
      "metadata": {
        "colab": {
          "base_uri": "https://localhost:8080/"
        },
        "id": "nIRYiGnt0hNc",
        "outputId": "deae23b2-b4d1-4bcd-9a5d-822b83d77093"
      },
      "execution_count": 45,
      "outputs": [
        {
          "output_type": "stream",
          "name": "stdout",
          "text": [
            "3.220461236957216\n"
          ]
        }
      ]
    },
    {
      "cell_type": "code",
      "source": [
        "desve=np.std(S) #Calcula la desviación estándar\n",
        "print(desve)"
      ],
      "metadata": {
        "colab": {
          "base_uri": "https://localhost:8080/"
        },
        "id": "cTf1J-e90ijp",
        "outputId": "45c6e7aa-4717-4487-ff6a-aaa2d94586c7"
      },
      "execution_count": 46,
      "outputs": [
        {
          "output_type": "stream",
          "name": "stdout",
          "text": [
            "0.15717168518110514\n"
          ]
        }
      ]
    },
    {
      "cell_type": "code",
      "source": [
        "plt.plot(S)\n",
        "plt.axhline(media, color='r', linestyle='--', label='media') #Grafica una linea vertical en la media\n",
        "plt.axhline(media + desve, color='g', linestyle='--', label=\"mu+sigma\") #media+desviación estándar\n",
        "plt.axhline(media - desve, color='g', linestyle='--', label=\"mu-sigma\") #media-desviación estándar\n",
        "\n",
        "plt.legend() #Mostrar leyenda\n",
        "plt.show()"
      ],
      "metadata": {
        "colab": {
          "base_uri": "https://localhost:8080/",
          "height": 430
        },
        "id": "W6M1-ig90qZE",
        "outputId": "dcd5394c-1499-4fff-e25f-d109c4094769"
      },
      "execution_count": 47,
      "outputs": [
        {
          "output_type": "display_data",
          "data": {
            "text/plain": [
              "<Figure size 640x480 with 1 Axes>"
            ],
            "image/png": "[encoded data removed]"
          },
          "metadata": {}
        }
      ]
    },
    {
      "cell_type": "markdown",
      "source": [
        "A vista, se ve que una muestra de tamaño $N\\approx 500$ da un resultado aceptable\n",
        "\\\n",
        "Para modificar la función y convertirla en una *corrida* de la simulación fijamos $N= 500$ y de la lista, tomamos el último dato, así M veces"
      ],
      "metadata": {
        "id": "1QJUAFnUJdzW"
      }
    },
    {
      "cell_type": "code",
      "source": [
        "def simulación (M): #Esta función retorna la simulación de la estimación de pi\n",
        " r=[]\n",
        " for i in range(M):\n",
        "  F,a,b,c,d=estimación(500) #fijamos N=750\n",
        "  r.append(F[-1])\n",
        " return r"
      ],
      "metadata": {
        "id": "cC18IDIR14b_"
      },
      "execution_count": 48,
      "outputs": []
    },
    {
      "cell_type": "code",
      "source": [
        "D=simulación (2000) #Realizamos la simulación M veces"
      ],
      "metadata": {
        "id": "ph0lq1QC2QaD"
      },
      "execution_count": 49,
      "outputs": []
    },
    {
      "cell_type": "code",
      "source": [
        "plt.hist(D,bins=100)\n",
        "plt.show()"
      ],
      "metadata": {
        "colab": {
          "base_uri": "https://localhost:8080/",
          "height": 430
        },
        "id": "go1ImN8d2WfD",
        "outputId": "dd46117a-a916-4aab-ca45-68e48f60109e"
      },
      "execution_count": 50,
      "outputs": [
        {
          "output_type": "display_data",
          "data": {
            "text/plain": [
              "<Figure size 640x480 with 1 Axes>"
            ],
            "image/png": "[encoded data removed]"
          },
          "metadata": {}
        }
      ]
    },
    {
      "cell_type": "code",
      "source": [
        "P=abs(media-np.pi) #Calculamos |z_N-pi| y al resultado le llamamos P\n",
        "print(P)"
      ],
      "metadata": {
        "colab": {
          "base_uri": "https://localhost:8080/"
        },
        "id": "ELcV5st-49Ra",
        "outputId": "a1a25a6c-d163-41cb-900f-aac2485f06c4"
      },
      "execution_count": 51,
      "outputs": [
        {
          "output_type": "stream",
          "name": "stdout",
          "text": [
            "0.07886858336742275\n"
          ]
        }
      ]
    },
    {
      "cell_type": "markdown",
      "source": [
        "###¿Qué valor de N?\n",
        "$ϵ$ es el error y la desviación estándar. Entonces, de la desigualdad Chebyshev\n",
        "$$P(|z_N-\\pi|\\geq ϵ)\\leq \\frac{V[z_N]}{ϵ^2}$$\n",
        "$$N=\\frac{4(1-p)}{p^3\\epsilon^2*P(|z_N-\\pi|\\geq ϵ)}$$"
      ],
      "metadata": {
        "id": "dN5DXDJVpuKr"
      }
    },
    {
      "cell_type": "code",
      "source": [
        "N_0=(4*(1-2/np.pi))/(2/np.pi**3*desve**2*P)\n",
        "print(\"N = \", round(N_0))"
      ],
      "metadata": {
        "colab": {
          "base_uri": "https://localhost:8080/"
        },
        "id": "kzqXQgWB5Cdk",
        "outputId": "14fa8e31-9324-4cbc-f5f5-5b967a48103b"
      },
      "execution_count": 56,
      "outputs": [
        {
          "output_type": "stream",
          "name": "stdout",
          "text": [
            "N =  11566\n"
          ]
        }
      ]
    },
    {
      "cell_type": "code",
      "source": [
        "# Realizar la prueba de Kolmogorov-Smirnov para la normalidad\n",
        "#Siendo la lista D los resultados de la simulación\n",
        "ks_statistic, p_value = stats.kstest(D, 'norm', args=(np.mean(D), np.std(D, ddof=1)))\n",
        "\n",
        "print(f'Estadístico KS: {ks_statistic}')\n",
        "print(f'Valor p: {p_value}')"
      ],
      "metadata": {
        "colab": {
          "base_uri": "https://localhost:8080/"
        },
        "id": "TGOLWmGWhQxN",
        "outputId": "7a34d974-8181-4ffb-ecd9-c498bba9a23b"
      },
      "execution_count": 62,
      "outputs": [
        {
          "output_type": "stream",
          "name": "stdout",
          "text": [
            "Estadístico KS: 0.03412893813963258\n",
            "Valor p: 0.018510097018535107\n"
          ]
        }
      ]
    },
    {
      "cell_type": "code",
      "source": [
        "# Interpretación del valor p\n",
        "if p_value > 0.05:\n",
        "    print(\"No se puede rechazar la hipótesis nula: los datos siguen una distribución normal.\")\n",
        "else:\n",
        "    print(\"Se rechaza la hipótesis nula: los datos no siguen una distribución normal.\")"
      ],
      "metadata": {
        "colab": {
          "base_uri": "https://localhost:8080/"
        },
        "id": "rCtU1VoTh5u9",
        "outputId": "41f5321e-d260-4c97-f297-251114911bac"
      },
      "execution_count": 63,
      "outputs": [
        {
          "output_type": "stream",
          "name": "stdout",
          "text": [
            "Se rechaza la hipótesis nula: los datos no siguen una distribución normal.\n"
          ]
        }
      ]
    }
  ]
}