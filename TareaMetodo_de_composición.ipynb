{
  "nbformat": 4,
  "nbformat_minor": 0,
  "metadata": {
    "colab": {
      "provenance": [],
      "authorship_tag": "ABX9TyMlBqGRJkDFHOiWrbjVtn+O"
    },
    "kernelspec": {
      "name": "python3",
      "display_name": "Python 3"
    },
    "language_info": {
      "name": "python"
    }
  },
  "cells": [
    {
      "cell_type": "markdown",
      "source": [
        "#Método de Composición"
      ],
      "metadata": {
        "id": "0npUNTeekqpw"
      }
    },
    {
      "cell_type": "markdown",
      "source": [
        "##Ejemplo\n",
        "$$f(x)=e^{-|2x|}$$\n",
        "\n",
        "1. $f(x)\\geq 0$ \\\n",
        "Propiedad de la función exponencial\n",
        "$$e^y$$\n",
        "es siempre positiva para cualquier valor real de $y\\in \\mathbb{R}$. Entonces tenemos\n",
        "$$ y= -|2x|\\geq 0$$\n",
        "$$-|2x|\\geq 0$$\n",
        "$$|x|\\geq 0$$\n",
        "Es equivalente a que $x$ puede ser negativo o positivo o igual a 0\n",
        "$$x\\leq 0 \\cup x\\geq 0$$\n",
        "es decir, $x$ puede tomar cualquier valor real, $x\\in \\mathbb{R}$. \\\n",
        "$$\\therefore f(x)\\geq 0$$\n",
        "2. Demostrar que $f(x)$ es una función de densidad\n",
        "$$\\int_{-∞}^∞f(x)dx=1 $$\n",
        "$$\\int_{-∞}^∞e^{-|2x|}dx=1 $$\n",
        "$$\\int_{-∞}^∞e^{-|2x|}dx=\\int_{-∞}^0e^{2x}dx\\ +\\int_0^{∞}e^{-2x}dx=$$\n",
        "$$\\int_{-∞}^0e^{2x}dx=\\frac{1}{2}\\int_{-∞}^0e^udx=\\frac{1}{2} e^u=[\\frac{1}{2}e^{2x}]_{-∞}^0=\\frac{1}{2}$$\n",
        "$$\\int_0^{∞}e^{-2x}dx=-\\frac{1}{2}\\int_{-∞}^0e^udx=-\\frac{1}{2} e^u=[-\\frac{1}{2}e^{-2x}]_0^{∞}=0-(-\\frac{1}{2})=\\frac{1}{2}$$\n",
        "$$\\int_{-∞}^∞e^{-|2x|}dx=\\frac{1}{2}+\\frac{1}{2}=1 $$"
      ],
      "metadata": {
        "id": "Nb7l35ZHmc3C"
      }
    },
    {
      "cell_type": "code",
      "execution_count": 9,
      "metadata": {
        "id": "dB3NMzajkjAY"
      },
      "outputs": [],
      "source": [
        "#Importamos las librerías a ocupar\n",
        "import random as rnd\n",
        "import numpy as np\n",
        "import matplotlib.pyplot as plt\n",
        "from math import e"
      ]
    },
    {
      "cell_type": "code",
      "source": [
        "x=np.linspace(-50,50,10000) #rango en x de [-50,50]\n",
        "y=e**(-abs(2*x)) #función f(x)\n",
        "plt.figure(figsize=(6,5)) #Crear figura\n",
        "plt.plot(x,y) #Graficar\n",
        "plt.show()"
      ],
      "metadata": {
        "colab": {
          "base_uri": "https://localhost:8080/",
          "height": 445
        },
        "id": "F5q_p8vimTyi",
        "outputId": "045743e2-4a7c-4a91-9a92-d5738f4741bf"
      },
      "execution_count": 10,
      "outputs": [
        {
          "output_type": "display_data",
          "data": {
            "text/plain": [
              "<Figure size 600x500 with 1 Axes>"
            ],
            "image/png": "[encoded data removed]"
          },
          "metadata": {}
        }
      ]
    },
    {
      "cell_type": "markdown",
      "source": [
        "###Pasos para el Método de composición\n",
        "1. Dividir la distribución en sub áreas \\\n",
        "La división en subáreas se basa en el comportamiento del valor absoluto. Por lo tanto $f(x)$ puede dividirse en dos sub áreas. $A_1 \\ y \\ A_2$ \\\n",
        "Anteriormente se calculó su integral a lo largo de $(-∞,∞)$ igualmente acorde al comportamiento del valor absoluto, así:\n",
        "$$A_1=A_2=\\frac{1}{2}$$\n",
        "2. Definir una distribución para cáda área\n",
        "$$f_1\\ y \\ f_2$$\n",
        "Como anteriormente se menciono $x$ puede ser negativo o positivo, entonces\n",
        "$$f_1(x)=e^{-2x},\\ cuando \\ x<0$$\n",
        "$$f_2(x)=e^{2x}, \\ cuando \\ x>0$$\n",
        "3. Escribir $f(x)=A_1f_1+A_2f_2=1$\n",
        "$$f(x)=\\frac{1}{2}e^{-2x}+\\frac{1}{2}e^{2x}$$\n",
        "4. Obtener la distribución acumulada de las áreas\n",
        "$$F(x) = \\int_{-∞}^{x}f(s)ds$$\n",
        "$$F_1(x)\\int_{-∞}^x e^{2s}ds=[\\frac{1}{2}e^{2s}]_{-∞}^0=\\frac{1}{2} e^{2x}$$\n",
        "La constante de acumulación $F_1(0)=\\frac{1}{2}$\n",
        "$$F_2(x)=F_1(0)+ \\int_0^{∞}e^{-2s}ds=F_1(0)+[-\\frac{1}{2}e^{-2s}]_0^{∞}=F_1(0)+0-(-\\frac{1}{2}e^{-2s})=\\frac{1}{2}+\\frac{1}{2} e^{-2x}$$\n",
        "$$F(x)\\begin{cases}\n",
        "\\frac{1}{2} e^{2x} \\ &\\text{si } x<0 \\\\\n",
        "\\frac{1}{2}+\\frac{1}{2} e^{-2x} \\ &\\text{si } x\\geq 0 \\\\\n",
        "\\end{cases}$$"
      ],
      "metadata": {
        "id": "jzrgWkFUvJuC"
      }
    },
    {
      "cell_type": "markdown",
      "source": [
        "5. Generar $R_1,R_2\\sim U(0,1)$. \\\n",
        "$R_1$ sirve para elegir si se genera $x\\sim f_1$ o $x\\sim f_2$ \\\n",
        "Luego se usa $R_2$ para generar $f_1$ o $f_2$, en este caso por transformada inversa \\\n",
        "\n",
        "Resolver $F_1(x)=R$\n",
        "$$\\frac{1}{2}e^{2x}=R$$\n",
        "$$x=\\frac{ln(2R)}{2}$$\n",
        "Y para $F_2(x)=R$\n",
        "$$\\frac{1}{2}+\\frac{1}{2} e^{-2x}=R$$\n",
        "$$x=\\frac{ln(1-2R)}{2}$$\n",
        "El eje donde se tomará los intervalos, es en el eje $y$, es decir de $[0,1]$. Quedando\n",
        "$$F^{-1}(u)\\begin{cases}\n",
        "\\frac{ln(2u)}{2} \\ &\\text{si } 0 \\leq x < \\frac{1}{2} \\\\\n",
        "-\\frac{ln(1-2u)}{2} \\ &\\text{si } \\frac{1}{2} \\leq x \\leq 1 \\\\\n",
        "\\end{cases}$$"
      ],
      "metadata": {
        "id": "qlKx-Dyd8y46"
      }
    },
    {
      "cell_type": "code",
      "source": [
        "def F_u(n) : #Esta función devuelve una lista con los valores de la función inversa\n",
        " lista1=[]\n",
        " for i in range(n):\n",
        "  u_1,u_2=np.random.rand(2) #Genera dos números aleatorios U(0,1)\n",
        "  if 0<u_1<1/2: #intervalo de [],1/2)\n",
        "   x=(np.log(2*u_2))/2\n",
        "   lista1.append(x)\n",
        "  else: #intervalo de [1/2,1]\n",
        "   x=-np.log((1-2*u_2))/2\n",
        "   lista1.append(x)\n",
        " return lista1"
      ],
      "metadata": {
        "id": "sdvywiD5ExcV"
      },
      "execution_count": null,
      "outputs": []
    },
    {
      "cell_type": "code",
      "source": [
        "G=F_u(10000) #Manda a llamar la función con n=10000"
      ],
      "metadata": {
        "colab": {
          "base_uri": "https://localhost:8080/"
        },
        "id": "cn_cDfKjAL2F",
        "outputId": "e6dbbc10-ede2-4797-dbe6-8bc0b2ea9f4b"
      },
      "execution_count": 35,
      "outputs": [
        {
          "output_type": "stream",
          "name": "stderr",
          "text": [
            "<ipython-input-34-47b4149aebc4>:9: RuntimeWarning: invalid value encountered in log\n",
            "  x=-np.log((1-2*u_2))/2\n"
          ]
        }
      ]
    },
    {
      "cell_type": "code",
      "source": [
        "plt.hist(G,bins=50) #Histograma de los datos\n",
        "plt.show()"
      ],
      "metadata": {
        "colab": {
          "base_uri": "https://localhost:8080/",
          "height": 430
        },
        "id": "8aFhQD0MAMBT",
        "outputId": "195e9f18-a349-4cce-dde8-b20b5570bb4f"
      },
      "execution_count": 38,
      "outputs": [
        {
          "output_type": "display_data",
          "data": {
            "text/plain": [
              "<Figure size 640x480 with 1 Axes>"
            ],
            "image/png": "[encoded data removed]"
          },
          "metadata": {}
        }
      ]
    },
    {
      "cell_type": "code",
      "source": [
        "def cdf(G): #Función de distribución acumulada\n",
        " n=len(G)\n",
        " x=np.sort(G) #Ordenamos los datos\n",
        " y=np.arange(0,n)/n #Genera un array de numeros enteros de 0 a n-1\n",
        "                    #El resultante se divide por n, para normalizar los valores\n",
        " return x,y"
      ],
      "metadata": {
        "id": "EXQ7iHSfAW8_"
      },
      "execution_count": 39,
      "outputs": []
    },
    {
      "cell_type": "code",
      "source": [
        "x,y=cdf(G)"
      ],
      "metadata": {
        "id": "ap8d7697AadQ"
      },
      "execution_count": 40,
      "outputs": []
    },
    {
      "cell_type": "code",
      "source": [
        "plt.step(x,y) #Gráfica de la distribución acumulada\n",
        "plt.axhline(y=1/2, color='violet', linestyle='--') #valor extremo del primer intervalo\n",
        "plt.show()"
      ],
      "metadata": {
        "colab": {
          "base_uri": "https://localhost:8080/",
          "height": 430
        },
        "id": "waDL72jCAebH",
        "outputId": "ac4a4ae4-2436-47b2-8773-7e8a66005d01"
      },
      "execution_count": 41,
      "outputs": [
        {
          "output_type": "display_data",
          "data": {
            "text/plain": [
              "<Figure size 640x480 with 1 Axes>"
            ],
            "image/png": "[encoded data removed]"
          },
          "metadata": {}
        }
      ]
    }
  ]
}