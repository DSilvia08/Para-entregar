{
  "nbformat": 4,
  "nbformat_minor": 0,
  "metadata": {
    "colab": {
      "provenance": [],
      "authorship_tag": "ABX9TyNU4tlYv1lKPXqL1KUvtAKY"
    },
    "kernelspec": {
      "name": "python3",
      "display_name": "Python 3"
    },
    "language_info": {
      "name": "python"
    }
  },
  "cells": [
    {
      "cell_type": "code",
      "source": [
        "import sys\n",
        "print(sys.version) #Versión de Python\n",
        "import scipy.stats #importamos librería necesaria para el programa\n",
        "from prettytable import PrettyTable"
      ],
      "metadata": {
        "colab": {
          "base_uri": "https://localhost:8080/"
        },
        "id": "Fe91odDSbWyK",
        "outputId": "91aa42b8-8c43-41b5-d095-e5ad628ac327"
      },
      "execution_count": 8,
      "outputs": [
        {
          "output_type": "stream",
          "name": "stdout",
          "text": [
            "3.10.12 (main, Nov 20 2023, 15:14:05) [GCC 11.4.0]\n"
          ]
        }
      ]
    },
    {
      "cell_type": "markdown",
      "source": [
        "3.10.12 (main, Nov 20 2023, 15:14:05) [GCC 11.4.0]\n",
        "#Prueba de Bondad de ajuste (Frecuencias esperadas iguales)\n",
        "Se utiliza para probar la hipótesis de una distribución de frecuencias que se ajusta (o concuerda con) alguna distribución que se asevera.\n",
        "Es una de las pruebas estadísticas de uso más común, en ella es posible llevar a cabo una prueba de hipótesis con datos que han sido clasificados en grupos o *categorías*.\n",
        "\n",
        "##Prueba de Chi Cuadrada"
      ],
      "metadata": {
        "id": "s68NH3VnbWEL"
      }
    },
    {
      "cell_type": "code",
      "source": [
        "#Determine si la siguiente lista de 100 números de 2 dígitos tiene una distribución uniforme con un nivel de aceptación de 90 %.\n",
        "L=[0.78, 0.98, 0.24, 0.73, 0.43, 0.16, 0.78, 0.47, 0.18, 0.55,\n",
        "0.04, 0.29, 0.68, 0.77, 0.16, 0.03, 0.79, 0.22, 0.37, 0.80,\n",
        "0.96, 0.26, 0.91, 0.55, 0.75, 0.55, 0.64, 0.39, 0.53, 0.45,\n",
        "0.61, 0.14, 0.38, 0.12, 0.40, 0.74, 0.78, 0.98, 0.27, 0.60,\n",
        "0.43, 0.67, 0.62, 0.32, 0.53, 0.54, 0.24, 0.29, 0.18, 0.08,\n",
        "0.82, 0.94, 0.19, 0.98, 0.41, 1.00, 0.74, 0.92, 0.14, 0.43,\n",
        "0.83, 0.88, 0.18, 0.21, 0.50, 0.13, 0.43, 0.69, 0.08, 0.12,\n",
        "0.22, 0.50, 0.16, 0.11, 0.18, 0.89, 0.80, 0.42, 0.29, 0.87,\n",
        "0.83, 0.79, 0.65, 0.28, 0.78, 0.49, 0.36, 0.86, 0.87, 0.64,\n",
        "0.51, 0.07, 0.18, 0.94, 0.50, 0.22, 0.66, 0.91, 0.48, 0.24]"
      ],
      "metadata": {
        "id": "Vxep22Xoct35"
      },
      "execution_count": 9,
      "outputs": []
    },
    {
      "cell_type": "code",
      "source": [
        "categori=[\"0-0.19\",\"0.2-0.39\",\"0.4-0.59\",\"0.6-0.79\",\"0.8-1\"] #Categorías/clases\n",
        "k=len(categori) #Número de categorías/clases"
      ],
      "metadata": {
        "id": "wcJar6prc0Iw"
      },
      "execution_count": 10,
      "outputs": []
    },
    {
      "cell_type": "code",
      "source": [
        "#creo una lista de listas, con un 0 como elemento\n",
        "listas=[] #esto para generar una lista de listas\n",
        "for i in range(k):\n",
        "  listas.append([]) #agrega las listas que contienen el cero\n",
        "  for j in range(1):\n",
        "    listas[i].append(0) #crea una lista y le agrega un 0"
      ],
      "metadata": {
        "id": "m3QH78sCdI8H"
      },
      "execution_count": 11,
      "outputs": []
    },
    {
      "cell_type": "code",
      "source": [
        "#clasifico los datos en cada lista\n",
        "for n in L:\n",
        "  if n<0.19:\n",
        "    listas[0].append(n)\n",
        "  if n>=0.2 and n<0.4:\n",
        "    listas[1].append(n)\n",
        "  if n>=0.4 and n<0.6:\n",
        "    listas[2].append(n)\n",
        "  if n>=0.6 and n<0.8:\n",
        "    listas[3].append(n)\n",
        "  if n>=0.8 and n<=1:\n",
        "    listas[4].append(n)"
      ],
      "metadata": {
        "id": "4U4_j8xUdap-"
      },
      "execution_count": 12,
      "outputs": []
    },
    {
      "cell_type": "code",
      "source": [
        "#quito los 0 iniciales\n",
        "#ya que los 0 iniciales no son parte de los datos de la lista principal\n",
        "for i in range(0,k):\n",
        "  listas[i].pop(0)"
      ],
      "metadata": {
        "id": "BuKFDLXudf9L"
      },
      "execution_count": 13,
      "outputs": []
    },
    {
      "cell_type": "code",
      "source": [
        "#cuento el tamaño de cada lista/freciencia observada\n",
        "f_observada=[]\n",
        "for u in range(k):\n",
        "  f_observada.append(len(listas[u]))"
      ],
      "metadata": {
        "id": "hfa67QSweR3k"
      },
      "execution_count": 14,
      "outputs": []
    },
    {
      "cell_type": "code",
      "source": [
        "#calculo la frecuencia esperada\n",
        "j=0\n",
        "for i in range(k):\n",
        "  j+=len(listas[i])\n",
        "f_esperada=[]\n",
        "#hago una lista del mismo tamaño que la frecuencia observada pero todos tendrán el mismo dato de frecuencia esperada\n",
        "for u in range(k):\n",
        "  f_esperada.append(round(j/k,4))"
      ],
      "metadata": {
        "id": "P52iW1XoeWyr"
      },
      "execution_count": 15,
      "outputs": []
    },
    {
      "cell_type": "code",
      "source": [
        "#diferencia de las frecuencias\n",
        "diferencia = [round(e1 - e2,2) for e1, e2 in zip(f_observada,f_esperada)]\n",
        "\n",
        "#cuadrado de la diferencia\n",
        "cuadrados = [round(d**2,2) for d in diferencia]\n",
        "\n",
        "#division cuadrados entre la frecuencia esperada\n",
        "ji = [round((d**2)/(j/k),4) for d in diferencia]"
      ],
      "metadata": {
        "id": "gBgOG71ueX7U"
      },
      "execution_count": 16,
      "outputs": []
    },
    {
      "cell_type": "code",
      "source": [
        "#X(chi)\n",
        "suma=sum(ji)"
      ],
      "metadata": {
        "id": "qOY9wUtbeh19"
      },
      "execution_count": 28,
      "outputs": []
    },
    {
      "cell_type": "code",
      "source": [
        "def Prubeba_Bondad(n_a):#Realizo la prueba de bondad\n",
        "                      #nivel de aceptación\n",
        "#n_a es el nivel de significancia\n",
        " n_s=1-n_a\n",
        " n_s=round(n_s,2)\n",
        " #grado de libertad\n",
        " grado_libertad=k-1\n",
        " #valor crítico\n",
        " vc=scipy.stats.chi2.ppf (n_a, grado_libertad)\n",
        " return vc, n_s, grado_libertad #Regresa datos para la evaluación"
      ],
      "metadata": {
        "id": "VtZBrbfxeYHT"
      },
      "execution_count": 29,
      "outputs": []
    },
    {
      "cell_type": "code",
      "source": [
        "vc, n_s, grado_libertad=Prubeba_Bondad(0.90)"
      ],
      "metadata": {
        "id": "3AQrOEnEf006"
      },
      "execution_count": 32,
      "outputs": []
    },
    {
      "cell_type": "code",
      "source": [
        "#TABLA\n",
        "myTable = PrettyTable([\"k\", \"f_o\", \"f_e\" , \"diferencia\", \"diferencia^2\", \"ji\"]) #Encabezado de la tabla\n",
        "\n",
        "for x in range(k):\n",
        "  myTable.add_row([categori[x],f_observada[x],f_esperada[x],diferencia[x], cuadrados[x], ji[x]])#datos"
      ],
      "metadata": {
        "id": "FJJmdC31e2v1"
      },
      "execution_count": 33,
      "outputs": []
    },
    {
      "cell_type": "code",
      "source": [
        "print(myTable) #imprime la tabla completa\n",
        "print(\"H_o= No hay diferencia de frecuencias observadas y en conjunto de frecuencias esperadas\")\n",
        "print(\"H_a= Hay una diferencia entre los conjuntos observado y esperado de frecuencias\")"
      ],
      "metadata": {
        "colab": {
          "base_uri": "https://localhost:8080/"
        },
        "id": "GGm6ri1ZfX0d",
        "outputId": "52ffc64a-c92b-4d40-b359-bc8ed42016d3"
      },
      "execution_count": 34,
      "outputs": [
        {
          "output_type": "stream",
          "name": "stdout",
          "text": [
            "+----------+-----+------+------------+--------------+--------+\n",
            "|    k     | f_o | f_e  | diferencia | diferencia^2 |   ji   |\n",
            "+----------+-----+------+------------+--------------+--------+\n",
            "|  0-0.19  |  19 | 19.8 |    -0.8    |     0.64     | 0.0323 |\n",
            "| 0.2-0.39 |  18 | 19.8 |    -1.8    |     3.24     | 0.1636 |\n",
            "| 0.4-0.59 |  21 | 19.8 |    1.2     |     1.44     | 0.0727 |\n",
            "| 0.6-0.79 |  21 | 19.8 |    1.2     |     1.44     | 0.0727 |\n",
            "|  0.8-1   |  20 | 19.8 |    0.2     |     0.04     | 0.002  |\n",
            "+----------+-----+------+------------+--------------+--------+\n",
            "H_o= No hay diferencia de frecuencias observadas y en conjunto de frecuencias esperadas\n",
            "H_a= Hay una diferencia entre los conjuntos observado y esperado de frecuencias\n"
          ]
        }
      ]
    },
    {
      "cell_type": "code",
      "execution_count": 35,
      "metadata": {
        "colab": {
          "base_uri": "https://localhost:8080/"
        },
        "id": "s62Sb8pqGU35",
        "outputId": "8a26bf29-51bb-41ba-c64b-30347e7694c4"
      },
      "outputs": [
        {
          "output_type": "stream",
          "name": "stdout",
          "text": [
            "no se rechaza H_o, es una distribución uniforme, X^2 <  7.779440339734858\n",
            "\n",
            "número de categorías k= :  5\n",
            "grados de libertad k-1= : 4\n",
            "X^2=  0.3433\n",
            "nivel de significancia:  0.1\n",
            "El valor crítico es:  7.7794\n"
          ]
        }
      ],
      "source": [
        "#Evaluacion\n",
        "if suma<vc:\n",
        "  print(\"no se rechaza H_o, es una distribución uniforme, X^2 < \",vc)\n",
        "else:\n",
        "  print(\"se rechaza, X^2 > \",vc)\n",
        "print(\"\")\n",
        "print(\"número de categorías k= : \", k)\n",
        "print(\"grados de libertad k-1= :\", grado_libertad)\n",
        "print(\"X^2= \", suma)\n",
        "print(\"nivel de significancia: \", n_s)\n",
        "print(\"El valor crítico es: \", round(vc,4))"
      ]
    }
  ]
}